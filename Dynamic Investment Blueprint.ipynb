{
    "nbformat_minor": 1, 
    "cells": [
        {
            "source": "# Dynamic Investment Blueprint", 
            "cell_type": "markdown", 
            "metadata": {
                "collapsed": true
            }
        }, 
        {
            "source": "### Goal: Call a stock market API to target companies of interest while instantly eradicating any companies that do not pass validation boundaries from our initial investment strategy.", 
            "cell_type": "markdown", 
            "metadata": {}
        }, 
        {
            "source": "### Why? Finding new talent to invest in may be tough and time consuming. By validating companies with real-time updated data provided by a third-party company's API, we can save time and focus fundamental investment strategies. Note: achievement of growth or value investing", 
            "cell_type": "markdown", 
            "metadata": {}
        }, 
        {
            "source": "### This Project: The project that you will read about here is only an illustration of what we can accomplish with my program. This program may be re-used with any technical parameters of interest and will output an analysis that can be used for projections and straight forward visualization diagrams. In this example we will call the API and validate any companies that fit our 'growth' investing scope (boundaries). Growth investing methods look for smaller companies that have potential for high growth in the future. Although this method is prone to possible loss, if we win there is a much better payout. So lets hundred-fold our investment!", 
            "cell_type": "markdown", 
            "metadata": {}
        }, 
        {
            "source": "### Part 1 - Data Migration", 
            "cell_type": "markdown", 
            "metadata": {}
        }, 
        {
            "source": "#### Importing libraries and packages", 
            "cell_type": "markdown", 
            "metadata": {}
        }, 
        {
            "execution_count": 79, 
            "cell_type": "code", 
            "metadata": {}, 
            "outputs": [], 
            "source": "# Import Here\nimport numpy as np\nimport pandas as pd\nimport matplotlib.pyplot as plt\nimport json"
        }, 
        {
            "source": "#### Declare Functions here", 
            "cell_type": "markdown", 
            "metadata": {}
        }, 
        {
            "source": "##### Function to import a javascript formatted URL into variable", 
            "cell_type": "markdown", 
            "metadata": {}
        }, 
        {
            "execution_count": 80, 
            "cell_type": "code", 
            "metadata": {}, 
            "outputs": [], 
            "source": "# This code was copied from,\n# Credit: https://financialmodelingprep.com/developer/docs/companies-key-stats-free-api/#Python\n#!/usr/bin/env python\n\ntry:\n    # For Python 3.0 and later\n    from urllib.request import urlopen\nexcept ImportError:\n    # Fall back to Python 2's urllib2\n    from urllib2 import urlopen\n\nimport json\n\ndef get_jsonparsed_data(url):\n    \"\"\"\n    Receive the content of ``url``, parse it as JSON and return the object.\n\n    Parameters\n    ----------\n    url : str\n\n    Returns\n    -------\n    dict\n    \"\"\"\n    \n    response = urlopen(url)\n    data = response.read().decode(\"utf-8\")\n    return json.loads(data)"
        }, 
        {
            "source": "##### Function to convert javascript into a pandas dataframe", 
            "cell_type": "markdown", 
            "metadata": {}
        }, 
        {
            "execution_count": 81, 
            "cell_type": "code", 
            "metadata": {}, 
            "outputs": [], 
            "source": "def json_to_empty_dataframe(dictionary):\n    columns = ['Company']\n    # Create a list of the dictionary keys\n    for keys in dictionary:\n        columns.append(keys)\n    \n    # Create a dataframe with the columns\n    initial_dataframe = pd.DataFrame(columns=columns)\n    \n    return initial_dataframe"
        }, 
        {
            "source": "##### Other useful functions", 
            "cell_type": "markdown", 
            "metadata": {}
        }, 
        {
            "execution_count": 135, 
            "cell_type": "code", 
            "metadata": {}, 
            "outputs": [], 
            "source": "# Function which extracts a big list of companies\ndef company_list(stock_list):\n    # stock_list contains 'symbol', 'name', and 'price'\n    final_list = []\n    counter = 0\n    # Loop through all stock name and append them\n    for i in stock_list:\n        for key in stock_list[counter]:\n            #if key == 'price':\n                if (stock_list[counter])['price'] < 0.5:\n                    final_list.append((stock_list[counter])['symbol'])\n        counter = counter + 1\n        \n    return final_list\n\n# Function which adds values of the income statement to a stock\ndef income_statement_dataframe(income_statement):\n    # income_statement contains multiple dictionaries with 'financials': 'Company', 'date', 'Revenue Growth', 'EPS'\n    final_list = []\n    temp = []\n    counter = 0\n    # Loop through all stock name and append them\n    for i in income_statement:\n        for key in income_statement[counter]:\n            if (key == 'date') or (key == 'Revenue Growth') or (key == 'Gross Profit') or (key == 'EPS'):\n                independent = income_statement[counter]\n                final_list.append(independent[key])\n        temp.append(final_list)\n        final_list = []\n        counter = counter + 1\n    clean_dataframe_income_statement = pd.DataFrame(temp, columns=['Timestamp', 'Revenue Growth', 'Gross Profit', 'EPS'])\n        \n    return clean_dataframe_income_statement\n\n# Function to match stock price with the dates in the main_dataframe then add the stock price column after match identification\ndef add_to_dataframe(stock_price, main_dataframe):\n\n    counter = 0\n    temp = []\n    test = []\n    prices = []\n\n    for i in stock_price:\n        temp.append((stock_price[counter])['date'])\n        temp.append((stock_price[counter])['close'])\n        test.append(temp)\n        temp = []\n        counter = counter + 1\n\n\n    main_list = (main_dataframe['Timestamp'])\n\n    # My Testing Strategy: (main_list[counter])[0:9] == (test[counter][0])[0:9]\n    # If we have a hit, input test[counter][1] into a new list, then break loop and increment counter\n    for dates in main_list:\n        for loop_through in range(0, len(test)-1):\n            if dates[0:9] == (test[loop_through][0])[0:9]:\n                prices.append(test[loop_through][1])\n                break\n\n    # If information is missing from the API, fill the rest of the column in with 'NA'\n    for i in range(0, 41-len(prices)):\n        prices.append('NA')\n\n    main_dataframe['Stock Price'] = prices\n    return main_dataframe\n\n\ndef add_key_metrics(data_key_metrics, main_dataframe):  \n    counter = 0\n    temp = []\n    key_attributes = []\n    free_cash_flow_per_share = []\n    pe_ratio = []\n    average_payables = []\n\n    #data_key_metrics = stock_price\n\n    for i in data_key_metrics:\n        temp.append((data_key_metrics[counter])['date'])\n        temp.append((data_key_metrics[counter])['Free Cash Flow per Share'])\n        temp.append((data_key_metrics[counter])['PE ratio'])\n        temp.append((data_key_metrics[counter])['Average Payables'])\n        key_attributes.append(temp)\n        temp = []\n        counter = counter + 1\n\n    main_list = (main_dataframe['Timestamp'])\n\n    # My Testing Strategy: (main_list[counter])[0:9] == (test[counter][0])[0:9]\n    # If we have a hit, input test[counter][1] into a new list, then break loop and increment counter\n    for dates in main_list:\n        for loop_through in range(0, len(key_attributes)-1):\n            if dates[0:9] == (key_attributes[loop_through][0])[0:9]:\n                free_cash_flow_per_share.append(key_attributes[loop_through][1])\n                pe_ratio.append(key_attributes[loop_through][2])\n                average_payables.append(key_attributes[loop_through][3])\n                break\n\n    # If information is missing from the API, fill the rest of the column in with 'NA'\n    for i in range(0, 41-len(free_cash_flow_per_share)):\n        free_cash_flow_per_share.append('NA')\n\n        # If information is missing from the API, fill the rest of the column in with 'NA'\n    for i in range(0, 41-len(pe_ratio)):\n        pe_ratio.append('NA')\n\n    # If information is missing from the API, fill the rest of the column in with 'NA'\n    for i in range(0, 41-len(average_payables)):\n        average_payables.append('NA')\n\n    main_dataframe['Free Cash Flow per Share'] = free_cash_flow_per_share\n    main_dataframe['P/E Ratio'] = pe_ratio\n    main_dataframe['Average Payables'] = average_payables\n    \n    return main_dataframe\n\n\n# Functions to input the stock symbol into the url so we can call the API\ndef name_API_company_profile(symbol, url):\n    return url[:54] + symbol + url[54:]\n\ndef name_API_income_statement(symbol, url):\n    return url[:69] + symbol + url[69:]\n\ndef name_API_stock_price(symbol, url):\n    return url[:63] + symbol + url[63:]\n\ndef name_API_key_metrics(symbol, url):\n    return url[:61] + symbol + url[61:]\n##########################################################################"
        }, 
        {
            "source": "##### Call API from resource: financialmodelingprep.com", 
            "cell_type": "markdown", 
            "metadata": {}
        }, 
        {
            "source": "#### (CURRENTLY NOT USING) * Get a ticker list of all companies in the stock market", 
            "cell_type": "markdown", 
            "metadata": {}
        }, 
        {
            "execution_count": 136, 
            "cell_type": "code", 
            "metadata": {}, 
            "outputs": [], 
            "source": "# Import companies from API\nurl_stocks = (\"https://financialmodelingprep.com/api/v3/company/stock/list\")\nstock_list = get_jsonparsed_data(url_stocks)\n\nhierarchy = stock_list[\"symbolsList\"]\n# Convert json data into a list of all stocks\nall_stocks = company_list(hierarchy)"
        }, 
        {
            "source": "#### NOT USING * Create an empty dataframe with relevant columns of multiple stocks", 
            "cell_type": "markdown", 
            "metadata": {}
        }, 
        {
            "execution_count": 137, 
            "cell_type": "code", 
            "metadata": {}, 
            "outputs": [], 
            "source": "# Identify our data identifiers\nticker = \"AMD\"\n\n# Add ticker symbol into data URL - this creates an accessible source for the API extraction process\nurl_company_profile = (\"https://financialmodelingprep.com/api/company/profile/?datatype=json\") # Insert ticker at 54\n\n# Add ticker symbol into data URL - this extracts data from the website reference\napi_call = name_API_company_profile(ticker, url_company_profile)\n\n# Take the website data from json into a pandas dataframe\njs = get_jsonparsed_data(api_call)\nstock_data = js[ticker]\n\ntest = json_to_empty_dataframe(stock_data)"
        }, 
        {
            "source": "#### (1) Create a dataframe from 'Income Statement' data as the basis of our dataframe", 
            "cell_type": "markdown", 
            "metadata": {}
        }, 
        {
            "execution_count": 138, 
            "cell_type": "code", 
            "metadata": {
                "scrolled": true
            }, 
            "outputs": [], 
            "source": "# Identify our data identifiers\nticker = \"AMD\"\n\n# Add ticker symbol into data URL - this creates an accessible source for the API extraction process\nurl_income_statement = (\"https://financialmodelingprep.com/api/v3/financials/income-statement/?period=quarter\") # Insert ticker at 69 ;)\n\n# Add ticker symbol into data URL - this extracts data from the website reference\napi_call = name_API_income_statement(ticker, url_income_statement)\n\n# Take the website data from json into a pandas dataframe\nincome_statement = get_jsonparsed_data(api_call)\ndata_income_statement = income_statement[\"financials\"]\n\n# Create empty pandas dataframe\ndataframe_income_statement = json_to_empty_dataframe(data_income_statement[0])\n\n# Delete All unecessary columns from pandas dataframe\n#clean_dataframe_income_statement = dataframe_income_statement.drop(columns=[ 'Company', 'Revenue', 'Cost of Revenue', 'R&D Expenses', 'SG&A Expense',\n#                                                                            'Operating Expenses', 'Operating Income', 'Interest Expense', 'Earnings before Tax', \n#                                                                            'Income Tax Expense', 'Net Income - Non-Controlling int', 'Net Income - Discontinued ops', \n#                                                                            'Net Income', 'Preferred Dividends', 'Net Income Com', 'EPS Diluted', 'Weighted Average Shs Out', 'Weighted Average Shs Out (Dil)',\n#                                                                            'Dividend per Share', 'Gross Margin', 'EBITDA Margin', 'EBIT Margin', 'Profit Margin', 'Free Cash Flow margin',\n#                                                                            'EBITDA', 'EBIT', 'Consolidated Income', 'Earnings Before Tax Margin', 'Net Profit Margin'])\n\n# Append attributes to main dataframe\nmain_dataframe = income_statement_dataframe(data_income_statement)"
        }, 
        {
            "source": "#### (2) Add 'Historical Price' data to the main_dataframe for Stock Price", 
            "cell_type": "markdown", 
            "metadata": {}
        }, 
        {
            "execution_count": 139, 
            "cell_type": "code", 
            "metadata": {
                "scrolled": true
            }, 
            "outputs": [], 
            "source": "# Get API url for historical stock price\nurl_stock_price = (\"https://financialmodelingprep.com/api/v3/historical-price-full/?serietype=line\") # Insert ticker at 63\n\n# Add ticker symbol into data URL - this creates an accessible source for the API extraction process\napi_call = name_API_stock_price(ticker, url_stock_price)\n\n# Take the website data from json into a pandas dataframe\nstock_price = get_jsonparsed_data(api_call)\ndata_stock_price = stock_price[\"historical\"]\n\n# Reverse list to match descending order of main_dataframe\ndata_stock_price.reverse()\n\n# Add stock prices relevant to date into the main_dataframe\nmain_dataframe = add_to_dataframe(data_stock_price, main_dataframe)"
        }, 
        {
            "source": "#### (3) Add 'Company Key Metrics' data to the main_dataframe (ie. 'PE ratio', 'Market Cap', 'Free Cash Flow per Share', etc)", 
            "cell_type": "markdown", 
            "metadata": {}
        }, 
        {
            "execution_count": null, 
            "cell_type": "code", 
            "metadata": {}, 
            "outputs": [], 
            "source": "# Get API url for Company Key Metrics data\nurl_key_metrics = (\"https://financialmodelingprep.com/api/v3/company-key-metrics/?period=quarter\")# Insert ticker at 61\n\n# Add ticker symbol into data URL - this creates an accessible source for the API extraction process\napi_call = name_API_key_metrics(ticker, url_key_metrics)\n\n# Create a list of dictionaries of all data from imported json data\nkey_metrics = get_jsonparsed_data(api_call)\ndata_key_metrics = key_metrics[\"metrics\"]\n\n# Add any relevant attributes we want into the dataframe\nmain_dataframe = add_key_metrics(data_key_metrics, main_dataframe)"
        }, 
        {
            "execution_count": null, 
            "cell_type": "code", 
            "metadata": {
                "scrolled": true
            }, 
            "outputs": [], 
            "source": "print(\"The Data Requested for: \" + ticker)\nmain_dataframe"
        }, 
        {
            "source": "### Part 2 - Indicator Calculations", 
            "cell_type": "markdown", 
            "metadata": {}
        }, 
        {
            "execution_count": null, 
            "cell_type": "code", 
            "metadata": {}, 
            "outputs": [], 
            "source": ""
        }, 
        {
            "source": "### Part 3 - Margin of Safety Calculation", 
            "cell_type": "markdown", 
            "metadata": {}
        }, 
        {
            "source": "### Part 4 - Data Visualization", 
            "cell_type": "markdown", 
            "metadata": {}
        }, 
        {
            "execution_count": 122, 
            "cell_type": "code", 
            "metadata": {}, 
            "outputs": [
                {
                    "output_type": "stream", 
                    "name": "stdout", 
                    "text": "['2019', '2019', '2018', '2018', '2018', '2018', '2017', '2017', '2017', '2017', '2016', '2016', '2016', '2016', '2015', '2015', '2015', '2015', '2014', '2014', '2014', '2014', '2013', '2013', '2013', '2013', '2012', '2012', '2012', '2012', '2011', '2011', '2011', '2011', '2010', '2010', '2010', '2010', '2009', '2009']\n"
                }, 
                {
                    "output_type": "display_data", 
                    "data": {
                        "image/png": "[encoded data removed]", 
                        "text/plain": "<Figure size 432x288 with 1 Axes>"
                    }, 
                    "metadata": {
                        "needs_background": "light"
                    }
                }, 
                {
                    "execution_count": 122, 
                    "metadata": {}, 
                    "data": {
                        "text/plain": "0     2019-06-29\n1     2019-03-30\n2     2018-12-29\n3     2018-09-29\n4     2018-06-30\n5     2018-03-31\n6     2017-12-30\n7     2017-09-30\n8     2017-07-01\n9     2017-04-01\n10    2016-12-31\n11    2016-09-24\n12    2016-06-25\n13    2016-03-26\n14    2015-12-26\n15    2015-09-26\n16    2015-06-27\n17    2015-03-28\n18    2014-12-27\n19    2014-09-27\n20    2014-06-28\n21    2014-03-29\n22    2013-12-28\n23    2013-09-28\n24    2013-06-29\n25    2013-03-30\n26    2012-12-29\n27    2012-09-29\n28    2012-06-30\n29    2012-03-31\n30    2011-12-31\n31    2011-10-01\n32    2011-07-02\n33    2011-04-02\n34    2010-12-25\n35    2010-09-25\n36    2010-06-26\n37    2010-03-27\n38    2009-12-26\n39    2009-09-26\nName: Timestamp, dtype: object"
                    }, 
                    "output_type": "execute_result"
                }
            ], 
            "source": "# PLOTTING...\nx = (main_dataframe['Timestamp'])[:40]\ny = (main_dataframe['Gross Profit'])[:40]\n\nby_year = []\nfor i in x:\n    by_year.append(i[0:4])\n    \nprint(by_year)\n\n# Graph date vs EPS plot\nplt.gca().invert_xaxis()\nplt.ylim((441000000, 10000000))\nplt.scatter(by_year, y)\nplt.ylabel('Gross Profit')\nplt.xlabel('Date')\nplt.show()\n\nx\n"
        }, 
        {
            "execution_count": null, 
            "cell_type": "code", 
            "metadata": {}, 
            "outputs": [], 
            "source": ""
        }
    ], 
    "metadata": {
        "kernelspec": {
            "display_name": "Python 3.6", 
            "name": "python3", 
            "language": "python"
        }, 
        "language_info": {
            "mimetype": "text/x-python", 
            "nbconvert_exporter": "python", 
            "version": "3.6.8", 
            "name": "python", 
            "file_extension": ".py", 
            "pygments_lexer": "ipython3", 
            "codemirror_mode": {
                "version": 3, 
                "name": "ipython"
            }
        }
    }, 
    "nbformat": 4
}