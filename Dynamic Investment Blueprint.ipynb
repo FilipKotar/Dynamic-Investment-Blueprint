{
    "nbformat_minor": 1, 
    "cells": [
        {
            "source": "# Dynamic Investment Blueprint", 
            "cell_type": "markdown", 
            "metadata": {
                "collapsed": true
            }
        }, 
        {
            "source": "### Goal: Call a stock market API to target companies of interest while instantly eradicating any companies that do not pass validation boundaries from our initial investment strategy.", 
            "cell_type": "markdown", 
            "metadata": {}
        }, 
        {
            "source": "### Why? Finding new talent to invest in may be tough and time consuming. By validating companies with real-time updated data provided by a third-party company's API, we can save time and focus fundamental investment strategies. Note: achievement of growth or value investing", 
            "cell_type": "markdown", 
            "metadata": {}
        }, 
        {
            "source": "### This Project: The project that you will read about here is only an illustration of what we can accomplish with my program. This program may be re-used with any technical parameters of interest and will output an analysis that can be used for projections and straight forward visualization diagrams. In this example we will call the API and validate any companies that fit our 'growth' investing scope (boundaries). Growth investing methods look for smaller companies that have potential for high growth in the future. Although this method is prone to possible loss, if we win there is a much better payout. So lets hundred-fold our investment!", 
            "cell_type": "markdown", 
            "metadata": {}
        }, 
        {
            "source": "### Part 1 - Data Migration", 
            "cell_type": "markdown", 
            "metadata": {}
        }, 
        {
            "source": "#### Importing libraries and packages", 
            "cell_type": "markdown", 
            "metadata": {}
        }, 
        {
            "execution_count": 98, 
            "cell_type": "code", 
            "metadata": {}, 
            "outputs": [], 
            "source": "# Import Here\nimport numpy as np\nimport pandas as pd\nimport matplotlib.pyplot as plt\nimport json\nimport sklearn"
        }, 
        {
            "source": "#### Declare Functions here", 
            "cell_type": "markdown", 
            "metadata": {}
        }, 
        {
            "source": "##### Function to import a javascript formatted URL into variable", 
            "cell_type": "markdown", 
            "metadata": {}
        }, 
        {
            "execution_count": 99, 
            "cell_type": "code", 
            "metadata": {}, 
            "outputs": [], 
            "source": "# This code was copied from,\n# Credit: https://financialmodelingprep.com/developer/docs/companies-key-stats-free-api/#Python\n#!/usr/bin/env python\n\ntry:\n    # For Python 3.0 and later\n    from urllib.request import urlopen\nexcept ImportError:\n    # Fall back to Python 2's urllib2\n    from urllib2 import urlopen\n\nimport json\n\ndef get_jsonparsed_data(url):\n    \"\"\"\n    Receive the content of ``url``, parse it as JSON and return the object.\n\n    Parameters\n    ----------\n    url : str\n\n    Returns\n    -------\n    dict\n    \"\"\"\n    \n    response = urlopen(url)\n    data = response.read().decode(\"utf-8\")\n    return json.loads(data)"
        }, 
        {
            "source": "##### Function to convert javascript into a pandas dataframe", 
            "cell_type": "markdown", 
            "metadata": {}
        }, 
        {
            "execution_count": 100, 
            "cell_type": "code", 
            "metadata": {}, 
            "outputs": [], 
            "source": "def json_to_empty_dataframe(dictionary):\n    columns = ['Company']\n    # Create a list of the dictionary keys\n    for keys in dictionary:\n        columns.append(keys)\n    \n    # Create a dataframe with the columns\n    initial_dataframe = pd.DataFrame(columns=columns)\n    \n    return initial_dataframe"
        }, 
        {
            "source": "##### Other useful functions", 
            "cell_type": "markdown", 
            "metadata": {}
        }, 
        {
            "execution_count": 101, 
            "cell_type": "code", 
            "metadata": {}, 
            "outputs": [], 
            "source": "# Function which extracts a big list of companies\ndef company_list(stock_list):\n    # stock_list contains 'symbol', 'name', and 'price'\n    final_list = []\n    counter = 0\n    # Loop through all stock name and append them\n    for i in stock_list:\n        for key in stock_list[counter]:\n            #if key == 'price':\n                if (stock_list[counter])['price'] < 0.5:\n                    final_list.append((stock_list[counter])['symbol'])\n        counter = counter + 1\n        \n    return final_list\n\n# Function which adds values of the income statement to a stock\ndef income_statement_dataframe(income_statement):\n    # income_statement contains multiple dictionaries with 'financials': 'Company', 'date', 'Revenue Growth', 'EPS'\n    final_list = []\n    temp = []\n    counter = 0\n    # Loop through all stock name and append them\n    for i in income_statement:\n        for key in income_statement[counter]:\n            if (key == 'date') or (key == 'Revenue Growth') or (key == 'Gross Profit') or (key == 'EPS'):\n                independent = income_statement[counter]\n                final_list.append(independent[key])\n        temp.append(final_list)\n        final_list = []\n        counter = counter + 1\n    clean_dataframe_income_statement = pd.DataFrame(temp, columns=['Timestamp', 'Revenue Growth', 'Gross Profit', 'EPS'])\n        \n    return clean_dataframe_income_statement\n\n# Function to match stock price with the dates in the main_dataframe then add the stock price column after match identification\ndef add_to_dataframe(stock_price, main_dataframe):\n\n    counter = 0\n    temp = []\n    test = []\n    prices = []\n\n    for i in stock_price:\n        temp.append((stock_price[counter])['date'])\n        temp.append((stock_price[counter])['close'])\n        test.append(temp)\n        temp = []\n        counter = counter + 1\n\n\n    main_list = (main_dataframe['Timestamp'])\n\n    # My Testing Strategy: (main_list[counter])[0:9] == (test[counter][0])[0:9]\n    # If we have a hit, input test[counter][1] into a new list, then break loop and increment counter\n    for dates in main_list:\n        for loop_through in range(0, len(test)-1):\n            if dates[0:9] == (test[loop_through][0])[0:9]:\n                prices.append(test[loop_through][1])\n                break\n\n    # If information is missing from the API, fill the rest of the column in with 'NA'\n    for i in range(0, 41-len(prices)):\n        prices.append('NA')\n\n    main_dataframe['Stock Price'] = prices\n    return main_dataframe\n\n\ndef add_key_metrics(data_key_metrics, main_dataframe):  \n    counter = 0\n    temp = []\n    key_attributes = []\n    free_cash_flow_per_share = []\n    pe_ratio = [] # price-to-earnings ratio\n    pb_ratio = [] # price-to-book ratio\n\n    #data_key_metrics = stock_price\n\n    for i in data_key_metrics:\n        temp.append((data_key_metrics[counter])['date'])\n        temp.append((data_key_metrics[counter])['Free Cash Flow per Share'])\n        temp.append((data_key_metrics[counter])['PE ratio'])\n        temp.append((data_key_metrics[counter])['PB ratio'])\n        key_attributes.append(temp)\n        temp = []\n        counter = counter + 1\n\n    main_list = (main_dataframe['Timestamp'])\n\n    # My Testing Strategy: (main_list[counter])[0:9] == (test[counter][0])[0:9]\n    # If we have a hit, input test[counter][1] into a new list, then break loop and increment counter\n    for dates in main_list:\n        for loop_through in range(0, len(key_attributes)-1):\n            if dates[0:9] == (key_attributes[loop_through][0])[0:9]:\n                free_cash_flow_per_share.append(key_attributes[loop_through][1])\n                pe_ratio.append(key_attributes[loop_through][2])\n                pb_ratio.append(key_attributes[loop_through][3])\n                break\n\n    # If information is missing from the API, fill the rest of the column in with 'NA'\n    for i in range(0, 41-len(free_cash_flow_per_share)):\n        free_cash_flow_per_share.append('NA')\n\n    # If information is missing from the API, fill the rest of the column in with 'NA'\n    for i in range(0, 41-len(pe_ratio)):\n        pe_ratio.append('NA')\n        \n    # If information is missing from the API, fill the rest of the column in with 'NA'\n    for i in range(0, 41-len(pb_ratio)):\n        pb_ratio.append('NA')\n\n\n    main_dataframe['Free Cash Flow per Share'] = free_cash_flow_per_share\n    main_dataframe['P/E Ratio'] = pe_ratio\n    main_dataframe['P/B Ratio'] = pb_ratio\n    \n    return main_dataframe\n\n\n# Functions to input the stock symbol into the url so we can call the API\ndef name_API_company_profile(symbol, url):\n    return url[:54] + symbol + url[54:]\n\ndef name_API_income_statement(symbol, url):\n    return url[:69] + symbol + url[69:]\n\ndef name_API_stock_price(symbol, url):\n    return url[:63] + symbol + url[63:]\n\ndef name_API_key_metrics(symbol, url):\n    return url[:61] + symbol + url[61:]\n##########################################################################"
        }, 
        {
            "source": "##### Call API from resource: financialmodelingprep.com", 
            "cell_type": "markdown", 
            "metadata": {}
        }, 
        {
            "source": "#### (CURRENTLY NOT USING) * Get a ticker list of all companies in the stock market", 
            "cell_type": "markdown", 
            "metadata": {}
        }, 
        {
            "execution_count": 102, 
            "cell_type": "code", 
            "metadata": {}, 
            "outputs": [], 
            "source": "# Import companies from API\nurl_stocks = (\"https://financialmodelingprep.com/api/v3/company/stock/list\")\nstock_list = get_jsonparsed_data(url_stocks)\n\nhierarchy = stock_list[\"symbolsList\"]\n# Convert json data into a list of all stocks\nall_stocks = company_list(hierarchy)"
        }, 
        {
            "source": "#### NOT USING * Create an empty dataframe with relevant columns of multiple stocks", 
            "cell_type": "markdown", 
            "metadata": {}
        }, 
        {
            "execution_count": 103, 
            "cell_type": "code", 
            "metadata": {}, 
            "outputs": [], 
            "source": "# Identify our data identifiers\nticker = \"IRBT\"\n\n# Add ticker symbol into data URL - this creates an accessible source for the API extraction process\nurl_company_profile = (\"https://financialmodelingprep.com/api/company/profile/?datatype=json\") # Insert ticker at 54\n\n# Add ticker symbol into data URL - this extracts data from the website reference\napi_call = name_API_company_profile(ticker, url_company_profile)\n\n# Take the website data from json into a pandas dataframe\njs = get_jsonparsed_data(api_call)\nstock_data = js[ticker]\n\ntest = json_to_empty_dataframe(stock_data)"
        }, 
        {
            "source": "#### (1) Create a dataframe from 'Income Statement' data as the basis of our dataframe", 
            "cell_type": "markdown", 
            "metadata": {}
        }, 
        {
            "execution_count": 104, 
            "cell_type": "code", 
            "metadata": {
                "scrolled": true
            }, 
            "outputs": [], 
            "source": "# Identify our data identifiers\nticker = \"IRBT\"\n\n# Add ticker symbol into data URL - this creates an accessible source for the API extraction process\nurl_income_statement = (\"https://financialmodelingprep.com/api/v3/financials/income-statement/?period=quarter\") # Insert ticker at 69 ;)\n\n# Add ticker symbol into data URL - this extracts data from the website reference\napi_call = name_API_income_statement(ticker, url_income_statement)\n\n# Take the website data from json into a pandas dataframe\nincome_statement = get_jsonparsed_data(api_call)\ndata_income_statement = income_statement[\"financials\"]\n\n# Create empty pandas dataframe\ndataframe_income_statement = json_to_empty_dataframe(data_income_statement[0])\n\n# Delete All unecessary columns from pandas dataframe\n#clean_dataframe_income_statement = dataframe_income_statement.drop(columns=[ 'Company', 'Revenue', 'Cost of Revenue', 'R&D Expenses', 'SG&A Expense',\n#                                                                            'Operating Expenses', 'Operating Income', 'Interest Expense', 'Earnings before Tax', \n#                                                                            'Income Tax Expense', 'Net Income - Non-Controlling int', 'Net Income - Discontinued ops', \n#                                                                            'Net Income', 'Preferred Dividends', 'Net Income Com', 'EPS Diluted', 'Weighted Average Shs Out', 'Weighted Average Shs Out (Dil)',\n#                                                                            'Dividend per Share', 'Gross Margin', 'EBITDA Margin', 'EBIT Margin', 'Profit Margin', 'Free Cash Flow margin',\n#                                                                            'EBITDA', 'EBIT', 'Consolidated Income', 'Earnings Before Tax Margin', 'Net Profit Margin'])\n\n# Append attributes to main dataframe\nmain_dataframe = income_statement_dataframe(data_income_statement)"
        }, 
        {
            "source": "#### (2) Add 'Historical Price' data to the main_dataframe for Stock Price", 
            "cell_type": "markdown", 
            "metadata": {}
        }, 
        {
            "execution_count": 105, 
            "cell_type": "code", 
            "metadata": {
                "scrolled": true
            }, 
            "outputs": [], 
            "source": "# Get API url for historical stock price\nurl_stock_price = (\"https://financialmodelingprep.com/api/v3/historical-price-full/?serietype=line\") # Insert ticker at 63\n\n# Add ticker symbol into data URL - this creates an accessible source for the API extraction process\napi_call = name_API_stock_price(ticker, url_stock_price)\n\n# Take the website data from json into a pandas dataframe\nstock_price = get_jsonparsed_data(api_call)\ndata_stock_price = stock_price[\"historical\"]\n\n# Reverse list to match descending order of main_dataframe\ndata_stock_price.reverse()\n\n# Add stock prices relevant to date into the main_dataframe\nmain_dataframe = add_to_dataframe(data_stock_price, main_dataframe)"
        }, 
        {
            "source": "#### (3) Add 'Company Key Metrics' data to the main_dataframe (ie. 'PE ratio', 'Market Cap', 'Free Cash Flow per Share', etc)", 
            "cell_type": "markdown", 
            "metadata": {}
        }, 
        {
            "execution_count": 106, 
            "cell_type": "code", 
            "metadata": {}, 
            "outputs": [], 
            "source": "# Get API url for Company Key Metrics data\nurl_key_metrics = (\"https://financialmodelingprep.com/api/v3/company-key-metrics/?period=quarter\")# Insert ticker at 61\n\n# Add ticker symbol into data URL - this creates an accessible source for the API extraction process\napi_call = name_API_key_metrics(ticker, url_key_metrics)\n\n# Create a list of dictionaries of all data from imported json data\nkey_metrics = get_jsonparsed_data(api_call)\ndata_key_metrics = key_metrics[\"metrics\"]\n\n# Add any relevant attributes we want into the dataframe\nmain_dataframe = add_key_metrics(data_key_metrics, main_dataframe)"
        }, 
        {
            "execution_count": 107, 
            "cell_type": "code", 
            "metadata": {
                "scrolled": true
            }, 
            "outputs": [
                {
                    "output_type": "stream", 
                    "name": "stdout", 
                    "text": "The Data Requested for: IRBT\n"
                }, 
                {
                    "execution_count": 107, 
                    "metadata": {}, 
                    "data": {
                        "text/html": "<div>\n<style scoped>\n    .dataframe tbody tr th:only-of-type {\n        vertical-align: middle;\n    }\n\n    .dataframe tbody tr th {\n        vertical-align: top;\n    }\n\n    .dataframe thead th {\n        text-align: right;\n    }\n</style>\n<table border=\"1\" class=\"dataframe\">\n  <thead>\n    <tr style=\"text-align: right;\">\n      <th></th>\n      <th>Timestamp</th>\n      <th>Revenue Growth</th>\n      <th>Gross Profit</th>\n      <th>EPS</th>\n      <th>Stock Price</th>\n      <th>Free Cash Flow per Share</th>\n      <th>P/E Ratio</th>\n      <th>P/B Ratio</th>\n    </tr>\n  </thead>\n  <tbody>\n    <tr>\n      <th>0</th>\n      <td>2019-06-29</td>\n      <td>0.1496</td>\n      <td>118170000.0</td>\n      <td>0.26</td>\n      <td>91.84</td>\n      <td>0.876</td>\n      <td>29.086</td>\n      <td>4.4247</td>\n    </tr>\n    <tr>\n      <th>1</th>\n      <td>2019-03-30</td>\n      <td>0.0949</td>\n      <td>119546000.0</td>\n      <td>0.81</td>\n      <td>81.32</td>\n      <td>0.108</td>\n      <td>36.4847</td>\n      <td>5.8903</td>\n    </tr>\n    <tr>\n      <th>2</th>\n      <td>2018-12-29</td>\n      <td>0.1767</td>\n      <td>186511000.0</td>\n      <td>0.91</td>\n      <td>109.92</td>\n      <td>-0.327</td>\n      <td>26.3333</td>\n      <td>4.3318</td>\n    </tr>\n    <tr>\n      <th>3</th>\n      <td>2018-09-29</td>\n      <td>0.2879</td>\n      <td>135206000.0</td>\n      <td>1.16</td>\n      <td>83.65</td>\n      <td>0.753</td>\n      <td>45.459</td>\n      <td>6.0557</td>\n    </tr>\n    <tr>\n      <th>4</th>\n      <td>2018-06-30</td>\n      <td>0.2357</td>\n      <td>117926000.0</td>\n      <td>0.38</td>\n      <td>66.45</td>\n      <td>0.663</td>\n      <td>36.5048</td>\n      <td>4.5778</td>\n    </tr>\n    <tr>\n      <th>5</th>\n      <td>2018-03-31</td>\n      <td>0.2885</td>\n      <td>115785000.0</td>\n      <td>0.73</td>\n      <td>58.45</td>\n      <td>0.539</td>\n      <td>31.9598</td>\n      <td>3.5842</td>\n    </tr>\n    <tr>\n      <th>6</th>\n      <td>2017-12-30</td>\n      <td>0.5384</td>\n      <td>153542000.0</td>\n      <td>0.17</td>\n      <td>43.1</td>\n      <td>-0.154</td>\n      <td>43.2973</td>\n      <td>4.7488</td>\n    </tr>\n    <tr>\n      <th>7</th>\n      <td>2017-09-30</td>\n      <td>0.2182</td>\n      <td>102383000.0</td>\n      <td>0.8</td>\n      <td>35.39</td>\n      <td>0.87</td>\n      <td>36.1644</td>\n      <td>4.8126</td>\n    </tr>\n    <tr>\n      <th>8</th>\n      <td>2017-07-01</td>\n      <td>0.2317</td>\n      <td>89891000.0</td>\n      <td>0.29</td>\n      <td>34.71</td>\n      <td>1.728</td>\n      <td>39.5924</td>\n      <td>5.3986</td>\n    </tr>\n    <tr>\n      <th>9</th>\n      <td>2017-04-01</td>\n      <td>0.2879</td>\n      <td>87343000.0</td>\n      <td>0.6</td>\n      <td>31.94</td>\n      <td>1.026</td>\n      <td>32.72</td>\n      <td>4.3746</td>\n    </tr>\n    <tr>\n      <th>10</th>\n      <td>2016-12-31</td>\n      <td>0.0294</td>\n      <td>106642000.0</td>\n      <td>0.5</td>\n      <td>28.57</td>\n      <td>-0.566</td>\n      <td>38.1325</td>\n      <td>4.0204</td>\n    </tr>\n    <tr>\n      <th>11</th>\n      <td>2016-10-01</td>\n      <td>0.1741</td>\n      <td>81060000.0</td>\n      <td>0.72</td>\n      <td>32.07</td>\n      <td>1.594</td>\n      <td>25.7219</td>\n      <td>3.2481</td>\n    </tr>\n    <tr>\n      <th>12</th>\n      <td>2016-07-02</td>\n      <td>-0.0006</td>\n      <td>69652000.0</td>\n      <td>0.18</td>\n      <td>31.98</td>\n      <td>0.169</td>\n      <td>24.6286</td>\n      <td>2.7784</td>\n    </tr>\n    <tr>\n      <th>13</th>\n      <td>2016-04-02</td>\n      <td>0.1089</td>\n      <td>61961000.0</td>\n      <td>0.14</td>\n      <td>34.6</td>\n      <td>0.209</td>\n      <td>23.6918</td>\n      <td>2.4281</td>\n    </tr>\n    <tr>\n      <th>14</th>\n      <td>2016-01-02</td>\n      <td>0.2955</td>\n      <td>95327000.0</td>\n      <td>0.65</td>\n      <td>30.91</td>\n      <td>0.099</td>\n      <td>22.8859</td>\n      <td>2.378</td>\n    </tr>\n    <tr>\n      <th>15</th>\n      <td>2015-09-26</td>\n      <td>0.0008</td>\n      <td>69858000.0</td>\n      <td>0.43</td>\n      <td>40.31</td>\n      <td>0.11</td>\n      <td>25.1228</td>\n      <td>2.1069</td>\n    </tr>\n    <tr>\n      <th>16</th>\n      <td>2015-06-27</td>\n      <td>0.0643</td>\n      <td>70033000.0</td>\n      <td>0.24</td>\n      <td>NA</td>\n      <td>1.22</td>\n      <td>26.725</td>\n      <td>2.3559</td>\n    </tr>\n    <tr>\n      <th>17</th>\n      <td>2015-03-28</td>\n      <td>0.0329</td>\n      <td>53708000.0</td>\n      <td>0.16</td>\n      <td>NA</td>\n      <td>0.136</td>\n      <td>26.312</td>\n      <td>2.4735</td>\n    </tr>\n    <tr>\n      <th>18</th>\n      <td>2014-12-27</td>\n      <td>0.2612</td>\n      <td>76335000.0</td>\n      <td>0.31</td>\n      <td>NA</td>\n      <td>-0.115</td>\n      <td>27.0313</td>\n      <td>2.6252</td>\n    </tr>\n    <tr>\n      <th>19</th>\n      <td>2014-09-27</td>\n      <td>0.1526</td>\n      <td>67889000.0</td>\n      <td>0.49</td>\n      <td>NA</td>\n      <td>-0.341</td>\n      <td>28.8879</td>\n      <td>2.4215</td>\n    </tr>\n    <tr>\n      <th>20</th>\n      <td>2014-06-28</td>\n      <td>0.0724</td>\n      <td>62121000.0</td>\n      <td>0.29</td>\n      <td>NA</td>\n      <td>1.024</td>\n      <td>48.1765</td>\n      <td>3.3661</td>\n    </tr>\n    <tr>\n      <th>21</th>\n      <td>2014-03-29</td>\n      <td>0.0754</td>\n      <td>51710000.0</td>\n      <td>0.18</td>\n      <td>NA</td>\n      <td>0.004</td>\n      <td>48.2941</td>\n      <td>3.4549</td>\n    </tr>\n    <tr>\n      <th>22</th>\n      <td>2013-12-28</td>\n      <td>0.2547</td>\n      <td>58961000.0</td>\n      <td>0.11</td>\n      <td>NA</td>\n      <td>0.221</td>\n      <td>36.4845</td>\n      <td>3.0932</td>\n    </tr>\n    <tr>\n      <th>23</th>\n      <td>2013-09-28</td>\n      <td>-0.0142</td>\n      <td>54061000.0</td>\n      <td>0.27</td>\n      <td>NA</td>\n      <td>-0.033</td>\n      <td>57.9231</td>\n      <td>3.3534</td>\n    </tr>\n    <tr>\n      <th>24</th>\n      <td>2013-06-29</td>\n      <td>0.1697</td>\n      <td>61605000.0</td>\n      <td>0.29</td>\n      <td>NA</td>\n      <td>0.86</td>\n      <td>43.129</td>\n      <td>3.698</td>\n    </tr>\n    <tr>\n      <th>25</th>\n      <td>2013-03-30</td>\n      <td>0.0858</td>\n      <td>46527000.0</td>\n      <td>0.3</td>\n      <td>NA</td>\n      <td>0.387</td>\n      <td>27.8132</td>\n      <td>2.4562</td>\n    </tr>\n    <tr>\n      <th>26</th>\n      <td>2012-12-29</td>\n      <td>-0.23</td>\n      <td>44504000.0</td>\n      <td>-0.21</td>\n      <td>NA</td>\n      <td>-0.205</td>\n      <td>29.746</td>\n      <td>1.8853</td>\n    </tr>\n    <tr>\n      <th>27</th>\n      <td>2012-09-29</td>\n      <td>0.0492</td>\n      <td>58476000.0</td>\n      <td>0.55</td>\n      <td>NA</td>\n      <td>0.08</td>\n      <td>18.6911</td>\n      <td>2.2816</td>\n    </tr>\n    <tr>\n      <th>28</th>\n      <td>2012-06-30</td>\n      <td>0.0311</td>\n      <td>52816000.0</td>\n      <td>0.27</td>\n      <td>NA</td>\n      <td>1.253</td>\n      <td>18.475</td>\n      <td>2.3593</td>\n    </tr>\n    <tr>\n      <th>29</th>\n      <td>2012-03-31</td>\n      <td>-0.0797</td>\n      <td>38552000.0</td>\n      <td>0.02</td>\n      <td>NA</td>\n      <td>0.811</td>\n      <td>21.9024</td>\n      <td>2.9702</td>\n    </tr>\n    <tr>\n      <th>30</th>\n      <td>2011-12-31</td>\n      <td>0.1471</td>\n      <td>71620000.0</td>\n      <td>0.39</td>\n      <td>NA</td>\n      <td>-0.324</td>\n      <td>19.06</td>\n      <td>3.1942</td>\n    </tr>\n    <tr>\n      <th>31</th>\n      <td>2011-10-01</td>\n      <td>0.2775</td>\n      <td>50043000.0</td>\n      <td>0.52</td>\n      <td>NA</td>\n      <td>-0.171</td>\n      <td>16.4203</td>\n      <td>2.7089</td>\n    </tr>\n    <tr>\n      <th>32</th>\n      <td>2011-07-02</td>\n      <td>0.1051</td>\n      <td>42536000.0</td>\n      <td>0.3</td>\n      <td>NA</td>\n      <td>0.359</td>\n      <td>31.8596</td>\n      <td>4.662</td>\n    </tr>\n    <tr>\n      <th>33</th>\n      <td>2011-04-02</td>\n      <td>0.1195</td>\n      <td>43454000.0</td>\n      <td>0.29</td>\n      <td>NA</td>\n      <td>0.308</td>\n      <td>31.819</td>\n      <td>4.5753</td>\n    </tr>\n    <tr>\n      <th>34</th>\n      <td>2011-01-01</td>\n      <td>0.1207</td>\n      <td>45488000.0</td>\n      <td>0.27</td>\n      <td>NA</td>\n      <td>0.435</td>\n      <td>25.26</td>\n      <td>3.7112</td>\n    </tr>\n    <tr>\n      <th>35</th>\n      <td>2010-10-02</td>\n      <td>0.1985</td>\n      <td>33257000.0</td>\n      <td>0.28</td>\n      <td>NA</td>\n      <td>0.338</td>\n      <td>19.3404</td>\n      <td>2.8829</td>\n    </tr>\n    <tr>\n      <th>36</th>\n      <td>2010-07-03</td>\n      <td>0.5945</td>\n      <td>33970000.0</td>\n      <td>0.21</td>\n      <td>NA</td>\n      <td>0.576</td>\n      <td>22.9342</td>\n      <td>2.9234</td>\n    </tr>\n    <tr>\n      <th>37</th>\n      <td>2010-04-03</td>\n      <td>0.6673</td>\n      <td>32717000.0</td>\n      <td>0.25</td>\n      <td>NA</td>\n      <td>0.469</td>\n      <td>33.5556</td>\n      <td>2.6864</td>\n    </tr>\n    <tr>\n      <th>38</th>\n      <td>2010-01-02</td>\n      <td>0.1215</td>\n      <td>34386000.0</td>\n      <td>0.2</td>\n      <td>NA</td>\n      <td>0.5759</td>\n      <td>138.1538</td>\n      <td>3.3805</td>\n    </tr>\n    <tr>\n      <th>39</th>\n      <td>2009-09-26</td>\n      <td>-0.1493</td>\n      <td>24195000.0</td>\n      <td>0.1</td>\n      <td>NA</td>\n      <td>0.4694</td>\n      <td>86.6667</td>\n      <td>2.6297</td>\n    </tr>\n    <tr>\n      <th>40</th>\n      <td>2009-06-27</td>\n      <td>-0.0872</td>\n      <td>16409000.0</td>\n      <td>-0.1</td>\n      <td>NA</td>\n      <td>NA</td>\n      <td>NA</td>\n      <td>NA</td>\n    </tr>\n  </tbody>\n</table>\n</div>", 
                        "text/plain": "     Timestamp Revenue Growth Gross Profit    EPS Stock Price  \\\n0   2019-06-29         0.1496  118170000.0   0.26       91.84   \n1   2019-03-30         0.0949  119546000.0   0.81       81.32   \n2   2018-12-29         0.1767  186511000.0   0.91      109.92   \n3   2018-09-29         0.2879  135206000.0   1.16       83.65   \n4   2018-06-30         0.2357  117926000.0   0.38       66.45   \n5   2018-03-31         0.2885  115785000.0   0.73       58.45   \n6   2017-12-30         0.5384  153542000.0   0.17        43.1   \n7   2017-09-30         0.2182  102383000.0    0.8       35.39   \n8   2017-07-01         0.2317   89891000.0   0.29       34.71   \n9   2017-04-01         0.2879   87343000.0    0.6       31.94   \n10  2016-12-31         0.0294  106642000.0    0.5       28.57   \n11  2016-10-01         0.1741   81060000.0   0.72       32.07   \n12  2016-07-02        -0.0006   69652000.0   0.18       31.98   \n13  2016-04-02         0.1089   61961000.0   0.14        34.6   \n14  2016-01-02         0.2955   95327000.0   0.65       30.91   \n15  2015-09-26         0.0008   69858000.0   0.43       40.31   \n16  2015-06-27         0.0643   70033000.0   0.24          NA   \n17  2015-03-28         0.0329   53708000.0   0.16          NA   \n18  2014-12-27         0.2612   76335000.0   0.31          NA   \n19  2014-09-27         0.1526   67889000.0   0.49          NA   \n20  2014-06-28         0.0724   62121000.0   0.29          NA   \n21  2014-03-29         0.0754   51710000.0   0.18          NA   \n22  2013-12-28         0.2547   58961000.0   0.11          NA   \n23  2013-09-28        -0.0142   54061000.0   0.27          NA   \n24  2013-06-29         0.1697   61605000.0   0.29          NA   \n25  2013-03-30         0.0858   46527000.0    0.3          NA   \n26  2012-12-29          -0.23   44504000.0  -0.21          NA   \n27  2012-09-29         0.0492   58476000.0   0.55          NA   \n28  2012-06-30         0.0311   52816000.0   0.27          NA   \n29  2012-03-31        -0.0797   38552000.0   0.02          NA   \n30  2011-12-31         0.1471   71620000.0   0.39          NA   \n31  2011-10-01         0.2775   50043000.0   0.52          NA   \n32  2011-07-02         0.1051   42536000.0    0.3          NA   \n33  2011-04-02         0.1195   43454000.0   0.29          NA   \n34  2011-01-01         0.1207   45488000.0   0.27          NA   \n35  2010-10-02         0.1985   33257000.0   0.28          NA   \n36  2010-07-03         0.5945   33970000.0   0.21          NA   \n37  2010-04-03         0.6673   32717000.0   0.25          NA   \n38  2010-01-02         0.1215   34386000.0    0.2          NA   \n39  2009-09-26        -0.1493   24195000.0    0.1          NA   \n40  2009-06-27        -0.0872   16409000.0   -0.1          NA   \n\n   Free Cash Flow per Share P/E Ratio P/B Ratio  \n0                     0.876    29.086    4.4247  \n1                     0.108   36.4847    5.8903  \n2                    -0.327   26.3333    4.3318  \n3                     0.753    45.459    6.0557  \n4                     0.663   36.5048    4.5778  \n5                     0.539   31.9598    3.5842  \n6                    -0.154   43.2973    4.7488  \n7                      0.87   36.1644    4.8126  \n8                     1.728   39.5924    5.3986  \n9                     1.026     32.72    4.3746  \n10                   -0.566   38.1325    4.0204  \n11                    1.594   25.7219    3.2481  \n12                    0.169   24.6286    2.7784  \n13                    0.209   23.6918    2.4281  \n14                    0.099   22.8859     2.378  \n15                     0.11   25.1228    2.1069  \n16                     1.22    26.725    2.3559  \n17                    0.136    26.312    2.4735  \n18                   -0.115   27.0313    2.6252  \n19                   -0.341   28.8879    2.4215  \n20                    1.024   48.1765    3.3661  \n21                    0.004   48.2941    3.4549  \n22                    0.221   36.4845    3.0932  \n23                   -0.033   57.9231    3.3534  \n24                     0.86    43.129     3.698  \n25                    0.387   27.8132    2.4562  \n26                   -0.205    29.746    1.8853  \n27                     0.08   18.6911    2.2816  \n28                    1.253    18.475    2.3593  \n29                    0.811   21.9024    2.9702  \n30                   -0.324     19.06    3.1942  \n31                   -0.171   16.4203    2.7089  \n32                    0.359   31.8596     4.662  \n33                    0.308    31.819    4.5753  \n34                    0.435     25.26    3.7112  \n35                    0.338   19.3404    2.8829  \n36                    0.576   22.9342    2.9234  \n37                    0.469   33.5556    2.6864  \n38                   0.5759  138.1538    3.3805  \n39                   0.4694   86.6667    2.6297  \n40                       NA        NA        NA  "
                    }, 
                    "output_type": "execute_result"
                }
            ], 
            "source": "print(\"The Data Requested for: \" + ticker)\nmain_dataframe"
        }, 
        {
            "source": "#### What does each Indicator tell us?\n##### Revenue Growth: increase/decrease of a companies sales (*100 for percent value)\n##### Gross Profit: profit a company makes after deducting costs with making and selling its products or services\n##### EPS: portion of a company's profit that is allocated to each outstanding share of its common stock\n##### Stock Price: current price of the security selling on the stock exchange\n##### Free Cash Flow per Share: the amount of a firm's net cash flows allocated to each share outstanding (free cash flow/# shares outstanding)\n##### P/E Ratio: the ratio of a company's share price to the company's earnings per share (high - overvalued, low - undervalued)\n##### P/B Ratio: a financial ratio used to compare a company's current market price to its book value (any value under 1 is good, any value under 3 may be good for value investing, stock price/book value per share)", 
            "cell_type": "markdown", 
            "metadata": {}
        }, 
        {
            "source": "### Part 2 - Indicator Calculations", 
            "cell_type": "markdown", 
            "metadata": {}
        }, 
        {
            "execution_count": null, 
            "cell_type": "code", 
            "metadata": {}, 
            "outputs": [], 
            "source": ""
        }, 
        {
            "source": "### Part 3 - Margin of Safety Calculation", 
            "cell_type": "markdown", 
            "metadata": {}
        }, 
        {
            "execution_count": 108, 
            "cell_type": "code", 
            "metadata": {}, 
            "outputs": [], 
            "source": "# Import Machine Learning packages\nfrom sklearn.model_selection import train_test_split\nfrom sklearn.linear_model import *\nimport datetime as dt"
        }, 
        {
            "execution_count": 152, 
            "cell_type": "code", 
            "metadata": {}, 
            "outputs": [], 
            "source": "# Our dependent variable, Stock Price(x-axis) will be the same throughout our machine learning models\n\ny_prepare = (main_dataframe['Stock Price'])[0:15]\n\ny = []\ntemp = []\nfor i in y_prepare:\n    y.append(float(i))\n\n    \ny.reverse()"
        }, 
        {
            "source": "#### Simple Linear Regression", 
            "cell_type": "markdown", 
            "metadata": {}
        }, 
        {
            "execution_count": 189, 
            "cell_type": "code", 
            "metadata": {}, 
            "outputs": [
                {
                    "output_type": "display_data", 
                    "data": {
                        "image/png": "[encoded data removed]", 
                        "text/plain": "<Figure size 432x288 with 1 Axes>"
                    }, 
                    "metadata": {
                        "needs_background": "light"
                    }
                }
            ], 
            "source": "ex = (main_dataframe['Gross Profit'])[0:15]\n\n# Convert all y values to float\nx = []\ntemp = []\nfor i in ex:\n    temp.append(float(i))\n    x.append(temp)\n    temp = []\n\nx.reverse()\n\n# Split the data into a set for training our model and testing our model\nX_train, X_test, y_train, y_test = train_test_split(x, y, test_size = 0.2, random_state = 0)\n\n\n# Fitting Simple Linear Regression to the Training Set\nmodel = LinearRegression() # Initialize regressor for model\nmodel.fit(X_train, y_train) # Fit the model onto\n\n# Predicting the Test set results\ny_pred = model.predict(X_test)\n\n# Visualising with Training set results\nplt.scatter(x, y, color = 'green')\nplt.plot(X_train, model.predict(X_train))\nplt.title('Gross Profit vs Stock Price')\nplt.xlabel('Gross Profit (Hundred Million)')\nplt.ylabel('Stock Price')\nplt.show()"
        }, 
        {
            "source": "Our plot above doesn't show a good correlation between Stock Price and company Gross Profit. I tried each indicator on our dataframe and none showed promising results, but what if we combine them? Let's try a different machine learning method...", 
            "cell_type": "markdown", 
            "metadata": {}
        }, 
        {
            "source": "#### Multiple Linear Regression", 
            "cell_type": "markdown", 
            "metadata": {}
        }, 
        {
            "execution_count": 188, 
            "cell_type": "code", 
            "metadata": {}, 
            "outputs": [], 
            "source": "x_dataframe = main_dataframe.drop(columns=['Timestamp', 'Gross Profit', 'Stock Price'])\nx = x_dataframe.iloc[:15:].values\n\n# Split the data into a set for training our model and testing our model\nX_train, X_test, y_train, y_test = train_test_split(x, y, test_size = 0.3, random_state = 0)\n\n\n# Fitting Simple Linear Regression to the Training Set\nmodel = LinearRegression() # Initialize regressor for model\nmodel.fit(X_train, y_train) # Fit the model onto\n\n\n# Predicting the Test set results\ny_pred = model.predict(X_test)\n"
        }, 
        {
            "source": "### Part 4 - Data Visualization", 
            "cell_type": "markdown", 
            "metadata": {}
        }, 
        {
            "source": "### Our Takeaway", 
            "cell_type": "markdown", 
            "metadata": {}
        }, 
        {
            "execution_count": null, 
            "cell_type": "code", 
            "metadata": {}, 
            "outputs": [], 
            "source": ""
        }
    ], 
    "metadata": {
        "kernelspec": {
            "display_name": "Python 3.6", 
            "name": "python3", 
            "language": "python"
        }, 
        "language_info": {
            "mimetype": "text/x-python", 
            "nbconvert_exporter": "python", 
            "version": "3.6.8", 
            "name": "python", 
            "file_extension": ".py", 
            "pygments_lexer": "ipython3", 
            "codemirror_mode": {
                "version": 3, 
                "name": "ipython"
            }
        }
    }, 
    "nbformat": 4
}