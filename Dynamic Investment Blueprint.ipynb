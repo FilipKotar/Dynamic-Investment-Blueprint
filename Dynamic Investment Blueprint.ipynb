{
    "nbformat_minor": 1, 
    "cells": [
        {
            "source": "# Dynamic Investment Blueprint", 
            "cell_type": "markdown", 
            "metadata": {
                "collapsed": true
            }
        }, 
        {
            "source": "### Goal: Call a stock market API to target companies of interest while instantly eradicating any companies that do not pass validation boundaries from our initial investment strategy.", 
            "cell_type": "markdown", 
            "metadata": {}
        }, 
        {
            "source": "### Why? Finding new talent to invest in may be tough and time consuming. By validating companies with real-time updated data provided by a third-party company's API, we can save time and focus fundamental investment strategies. Note: achievement of growth or value investing", 
            "cell_type": "markdown", 
            "metadata": {}
        }, 
        {
            "source": "### This Project: The project that you will read about here is only an illustration of what we can accomplish with my program. This program may be re-used with any technical parameters of interest and will output an analysis that can be used for projections and straight forward visualization diagrams. In this example we will call the API and validate any companies that fit our 'growth' investing scope (boundaries). Growth investing methods look for smaller companies that have potential for high growth in the future. Although this method is prone to possible loss, if we win there is a much better payout. So lets hundred-fold our investment!", 
            "cell_type": "markdown", 
            "metadata": {}
        }, 
        {
            "source": "### Part 1 - Data Migration", 
            "cell_type": "markdown", 
            "metadata": {}
        }, 
        {
            "source": "#### Importing libraries and packages", 
            "cell_type": "markdown", 
            "metadata": {}
        }, 
        {
            "execution_count": 1, 
            "cell_type": "code", 
            "metadata": {}, 
            "outputs": [], 
            "source": "import numpy as np\nimport pandas as pd\nimport matplotlib.pyplot as plt\nimport json"
        }, 
        {
            "source": "#### Declare Functions here", 
            "cell_type": "markdown", 
            "metadata": {}
        }, 
        {
            "source": "##### Function to import a javascript formatted URL into variable", 
            "cell_type": "markdown", 
            "metadata": {}
        }, 
        {
            "execution_count": 2, 
            "cell_type": "code", 
            "metadata": {}, 
            "outputs": [], 
            "source": "# This code was copied from,\n# Credit: https://financialmodelingprep.com/developer/docs/companies-key-stats-free-api/#Python\n#!/usr/bin/env python\n\ntry:\n    # For Python 3.0 and later\n    from urllib.request import urlopen\nexcept ImportError:\n    # Fall back to Python 2's urllib2\n    from urllib2 import urlopen\n\nimport json\n\ndef get_jsonparsed_data(url):\n    \"\"\"\n    Receive the content of ``url``, parse it as JSON and return the object.\n\n    Parameters\n    ----------\n    url : str\n\n    Returns\n    -------\n    dict\n    \"\"\"\n    \n    response = urlopen(url)\n    data = response.read().decode(\"utf-8\")\n    return json.loads(data)"
        }, 
        {
            "source": "##### Function to convert javascript into a pandas dataframe", 
            "cell_type": "markdown", 
            "metadata": {}
        }, 
        {
            "execution_count": 3, 
            "cell_type": "code", 
            "metadata": {}, 
            "outputs": [], 
            "source": "def json_to_empty_dataframe(dictionary):\n    columns = ['Company']\n    # Create a list of the dictionary keys\n    for keys in dictionary:\n        columns.append(keys)\n    \n    # Create a dataframe with the columns\n    initial_dataframe = pd.DataFrame(columns=columns)\n    \n    return initial_dataframe\n    \n#def json_fill_dataframe"
        }, 
        {
            "source": "##### Other useful functions", 
            "cell_type": "markdown", 
            "metadata": {}
        }, 
        {
            "execution_count": 4, 
            "cell_type": "code", 
            "metadata": {}, 
            "outputs": [], 
            "source": "# Function which extracts a big list of companies\ndef company_list(stock_list):\n    # stock_list contains 'symbol', 'name', and 'price'\n    final_list = []\n    counter = 0\n    # Loop through all stock name and append them\n    for i in stock_list:\n        for key in stock_list[counter]:\n            #if key == 'price':\n                if (stock_list[counter])['price'] < 0.5:\n                    final_list.append((stock_list[counter])['symbol'])\n        counter = counter + 1\n        \n    return final_list\n\n# Function which adds values of the income statement to a stock\ndef income_statement_dataframe(income_statement):\n    # income_statement contains multiple dictionaries with 'financials': 'Company', 'date', 'Revenue Growth', 'EPS'\n    final_list = []\n    temp = []\n    counter = 0\n    # Loop through all stock name and append them\n    for i in income_statement:\n        for key in income_statement[counter]:\n            if (key == 'date') or (key == 'Revenue Growth') or (key == 'Gross Profit') or (key == 'EPS'):\n                independent = income_statement[counter]\n                final_list.append(independent[key])\n        temp.append(final_list)\n        final_list = []\n        counter = counter + 1\n    clean_dataframe_income_statement = pd.DataFrame(temp, columns=['date', 'Revenue Growth', 'Gross Profit', 'EPS'])\n        \n    return clean_dataframe_income_statement\n\n# Function to match stock price with the dates in the main_dataframe then add the stock price column after match identification\ndef add_to_dataframe(stock_price, main_dataframe):\n\n    counter = 0\n    temp = []\n    test = []\n    prices = []\n\n    for i in stock_price:\n        temp.append((stock_price[counter])['date'])\n        temp.append((stock_price[counter])['close'])\n        test.append(temp)\n        temp = []\n        counter = counter + 1\n\n\n    main_list = (main_dataframe['date'])\n\n    # My Testing Strategy: (main_list[counter])[0:9] == (test[counter][0])[0:9]\n    # If we have a hit, input test[counter][1] into a new list, then break loop and increment counter\n    for dates in main_list:\n        for loop_through in range(0, len(test)-1):\n            if dates[0:9] == (test[loop_through][0])[0:9]:\n                prices.append(test[loop_through][1])\n                break\n\n    # If information is missing from the API, fill the rest of the column in with 'NA'\n    for i in range(0, 41-len(prices)):\n        prices.append('NA')\n\n    main_dataframe['Stock Price'] = prices\n    return main_dataframe\n\n\n# Functions to input the stock symbol into the url so we can call the API\ndef name_API_company_profile(symbol, url):\n    return url[:54] + symbol + url[54:]\n\ndef name_API_income_statement(symbol, url):\n    return url[:69] + symbol + url[69:]\n\ndef name_API_stock_price(symbol, url):\n    return url[:63] + symbol + url[63:]\n##########################################################################"
        }, 
        {
            "source": "##### Call API from resource: financialmodelingprep.com", 
            "cell_type": "markdown", 
            "metadata": {}
        }, 
        {
            "source": "#### (CURRENTLY NOT USING) * Get a ticker list of all companies in the stock market", 
            "cell_type": "markdown", 
            "metadata": {}
        }, 
        {
            "execution_count": 6, 
            "cell_type": "code", 
            "metadata": {}, 
            "outputs": [], 
            "source": "# Import companies from API\nurl_stocks = (\"https://financialmodelingprep.com/api/v3/company/stock/list\")\nstock_list = get_jsonparsed_data(url_stocks)\n\nhierarchy = stock_list[\"symbolsList\"]\n# Convert json data into a list of all stocks\nall_stocks = company_list(hierarchy)"
        }, 
        {
            "source": "#### NOT USING * Create an empty dataframe with relevant columns of multiple stocks", 
            "cell_type": "markdown", 
            "metadata": {}
        }, 
        {
            "execution_count": 10, 
            "cell_type": "code", 
            "metadata": {}, 
            "outputs": [], 
            "source": "# Identify our data identifiers\nticker = \"AMD\"\n\n# Get API url for company profile\nurl_company_profile = (\"https://financialmodelingprep.com/api/company/profile/?datatype=json\") #54\n# Add ticker symbol into data URL - this extracts data from the website reference\napi_call = name_API_company_profile(ticker, url_company_profile)\n\n# Take the website data from json into a pandas dataframe\njs = get_jsonparsed_data(api_call)\nstock_data = js[ticker]\n\ntest = json_to_empty_dataframe(stock_data)"
        }, 
        {
            "source": "#### (1) Create a dataframe of one stock we want to look deeper into, this is where all the analysis of single stocks will come from", 
            "cell_type": "markdown", 
            "metadata": {}
        }, 
        {
            "execution_count": 41, 
            "cell_type": "code", 
            "metadata": {
                "scrolled": true
            }, 
            "outputs": [], 
            "source": "# Identify our data identifiers\nticker = \"AMD\"\n\n# Get API url for income statement information\nurl_income_statement = (\"https://financialmodelingprep.com/api/v3/financials/income-statement/?period=quarter\") #69\n\n# Add ticker symbol into data URL - this extracts data from the website reference\napi_call = name_API_income_statement(ticker, url_income_statement)\n\n# Take the website data from json into a pandas dataframe\nincome_statement = get_jsonparsed_data(api_call)\nstock_data_income_statement = income_statement[\"financials\"]\n\n# Create empty pandas dataframe\ndataframe_income_statement = json_to_empty_dataframe(stock_data_income_statement[0])\n\n# Delete All unecessary columns from pandas dataframe\n#clean_dataframe_income_statement = dataframe_income_statement.drop(columns=[ 'Company', 'Revenue', 'Cost of Revenue', 'R&D Expenses', 'SG&A Expense',\n#                                                                            'Operating Expenses', 'Operating Income', 'Interest Expense', 'Earnings before Tax', \n#                                                                            'Income Tax Expense', 'Net Income - Non-Controlling int', 'Net Income - Discontinued ops', \n#                                                                            'Net Income', 'Preferred Dividends', 'Net Income Com', 'EPS Diluted', 'Weighted Average Shs Out', 'Weighted Average Shs Out (Dil)',\n#                                                                            'Dividend per Share', 'Gross Margin', 'EBITDA Margin', 'EBIT Margin', 'Profit Margin', 'Free Cash Flow margin',\n#                                                                            'EBITDA', 'EBIT', 'Consolidated Income', 'Earnings Before Tax Margin', 'Net Profit Margin'])\n\nmain_dataframe = income_statement_dataframe(stock_data_income_statement)\n\n# Output Clean DataFrame\n#main_dataframe\n"
        }, 
        {
            "source": "#### (2) Add a 'Stock Price' column to the main_dataframe", 
            "cell_type": "markdown", 
            "metadata": {}
        }, 
        {
            "execution_count": 42, 
            "cell_type": "code", 
            "metadata": {
                "scrolled": true
            }, 
            "outputs": [
                {
                    "execution_count": 42, 
                    "metadata": {}, 
                    "data": {
                        "text/html": "<div>\n<style scoped>\n    .dataframe tbody tr th:only-of-type {\n        vertical-align: middle;\n    }\n\n    .dataframe tbody tr th {\n        vertical-align: top;\n    }\n\n    .dataframe thead th {\n        text-align: right;\n    }\n</style>\n<table border=\"1\" class=\"dataframe\">\n  <thead>\n    <tr style=\"text-align: right;\">\n      <th></th>\n      <th>date</th>\n      <th>Revenue Growth</th>\n      <th>Gross Profit</th>\n      <th>EPS</th>\n      <th>Stock Price</th>\n    </tr>\n  </thead>\n  <tbody>\n    <tr>\n      <th>0</th>\n      <td>2019-06-30</td>\n      <td>0.2211</td>\n      <td>98807000.0</td>\n      <td>0.43</td>\n      <td>24.1453</td>\n    </tr>\n    <tr>\n      <th>1</th>\n      <td>2019-03-31</td>\n      <td>0.1352</td>\n      <td>92217000.0</td>\n      <td>0.48</td>\n      <td>27.7806</td>\n    </tr>\n    <tr>\n      <th>2</th>\n      <td>2018-12-31</td>\n      <td>-0.0101</td>\n      <td>82950000.0</td>\n      <td>0.51</td>\n      <td>27.6823</td>\n    </tr>\n    <tr>\n      <th>3</th>\n      <td>2018-09-30</td>\n      <td>0.0875</td>\n      <td>81869000.0</td>\n      <td>0.55</td>\n      <td>28.8119</td>\n    </tr>\n    <tr>\n      <th>4</th>\n      <td>2018-06-30</td>\n      <td>0.3066</td>\n      <td>80916000.0</td>\n      <td>0.51</td>\n      <td>20.9952</td>\n    </tr>\n    <tr>\n      <th>5</th>\n      <td>2018-03-31</td>\n      <td>0.3203</td>\n      <td>81235000.0</td>\n      <td>0.45</td>\n      <td>19.7233</td>\n    </tr>\n    <tr>\n      <th>6</th>\n      <td>2017-12-31</td>\n      <td>0.3486</td>\n      <td>83798000.0</td>\n      <td>0.23</td>\n      <td>18.7313</td>\n    </tr>\n    <tr>\n      <th>7</th>\n      <td>2017-09-30</td>\n      <td>0.1964</td>\n      <td>75284000.0</td>\n      <td>0.41</td>\n      <td>18.703</td>\n    </tr>\n    <tr>\n      <th>8</th>\n      <td>2017-06-30</td>\n      <td>0.1172</td>\n      <td>61928000.0</td>\n      <td>0.43</td>\n      <td>17.8612</td>\n    </tr>\n    <tr>\n      <th>9</th>\n      <td>2017-03-31</td>\n      <td>0.4051</td>\n      <td>61527000.0</td>\n      <td>0.4</td>\n      <td>17.5811</td>\n    </tr>\n    <tr>\n      <th>10</th>\n      <td>2016-12-31</td>\n      <td>0.3834</td>\n      <td>62136000.0</td>\n      <td>0.3</td>\n      <td>17.7657</td>\n    </tr>\n    <tr>\n      <th>11</th>\n      <td>2016-09-30</td>\n      <td>0.4307</td>\n      <td>62926000.0</td>\n      <td>0.4</td>\n      <td>17.1481</td>\n    </tr>\n    <tr>\n      <th>12</th>\n      <td>2016-06-30</td>\n      <td>0.2605</td>\n      <td>55429000.0</td>\n      <td>0.36</td>\n      <td>14.5481</td>\n    </tr>\n    <tr>\n      <th>13</th>\n      <td>2016-03-31</td>\n      <td>0.0392</td>\n      <td>43788000.0</td>\n      <td>0.36</td>\n      <td>15.0425</td>\n    </tr>\n    <tr>\n      <th>14</th>\n      <td>2015-12-31</td>\n      <td>0.1001</td>\n      <td>44914000.0</td>\n      <td>0.36</td>\n      <td>NA</td>\n    </tr>\n    <tr>\n      <th>15</th>\n      <td>2015-09-30</td>\n      <td>0.0964</td>\n      <td>43984000.0</td>\n      <td>0.36</td>\n      <td>NA</td>\n    </tr>\n    <tr>\n      <th>16</th>\n      <td>2015-06-30</td>\n      <td>0.1266</td>\n      <td>43974000.0</td>\n      <td>0.34</td>\n      <td>NA</td>\n    </tr>\n    <tr>\n      <th>17</th>\n      <td>2015-03-31</td>\n      <td>0.0932</td>\n      <td>42135000.0</td>\n      <td>0.26</td>\n      <td>NA</td>\n    </tr>\n    <tr>\n      <th>18</th>\n      <td>2014-12-31</td>\n      <td>0.0734</td>\n      <td>40826000.0</td>\n      <td>0.26</td>\n      <td>NA</td>\n    </tr>\n    <tr>\n      <th>19</th>\n      <td>2014-09-30</td>\n      <td>0.0322</td>\n      <td>40115000.0</td>\n      <td>0.31</td>\n      <td>NA</td>\n    </tr>\n    <tr>\n      <th>20</th>\n      <td>2014-06-30</td>\n      <td>0.0001</td>\n      <td>39033000.0</td>\n      <td>0.27</td>\n      <td>NA</td>\n    </tr>\n    <tr>\n      <th>21</th>\n      <td>2014-03-31</td>\n      <td>-0.0174</td>\n      <td>38543000.0</td>\n      <td>0.27</td>\n      <td>NA</td>\n    </tr>\n    <tr>\n      <th>22</th>\n      <td>2013-12-31</td>\n      <td>-0.043</td>\n      <td>38033000.0</td>\n      <td>0.21</td>\n      <td>NA</td>\n    </tr>\n    <tr>\n      <th>23</th>\n      <td>2013-09-30</td>\n      <td>0.0327</td>\n      <td>38863000.0</td>\n      <td>0.24</td>\n      <td>NA</td>\n    </tr>\n    <tr>\n      <th>24</th>\n      <td>2013-06-30</td>\n      <td>0.068</td>\n      <td>39028000.0</td>\n      <td>0.24</td>\n      <td>NA</td>\n    </tr>\n    <tr>\n      <th>25</th>\n      <td>2013-03-31</td>\n      <td>0.0167</td>\n      <td>39224000.0</td>\n      <td>0.18</td>\n      <td>NA</td>\n    </tr>\n    <tr>\n      <th>26</th>\n      <td>2012-12-31</td>\n      <td>0.0891</td>\n      <td>39742000.0</td>\n      <td>0.15</td>\n      <td>NA</td>\n    </tr>\n    <tr>\n      <th>27</th>\n      <td>2012-09-30</td>\n      <td>0.005</td>\n      <td>37634000.0</td>\n      <td>0.15</td>\n      <td>NA</td>\n    </tr>\n    <tr>\n      <th>28</th>\n      <td>2012-06-30</td>\n      <td>-0.0012</td>\n      <td>36544000.0</td>\n      <td>0.12</td>\n      <td>NA</td>\n    </tr>\n    <tr>\n      <th>29</th>\n      <td>2012-03-31</td>\n      <td>-0.0079</td>\n      <td>38578000.0</td>\n      <td>0.24</td>\n      <td>NA</td>\n    </tr>\n    <tr>\n      <th>30</th>\n      <td>2011-12-31</td>\n      <td>0.0048</td>\n      <td>36490000.0</td>\n      <td>0.15</td>\n      <td>NA</td>\n    </tr>\n    <tr>\n      <th>31</th>\n      <td>2011-09-30</td>\n      <td>0.0703</td>\n      <td>37445000.0</td>\n      <td>0.24</td>\n      <td>NA</td>\n    </tr>\n    <tr>\n      <th>32</th>\n      <td>2011-06-30</td>\n      <td>0.0162</td>\n      <td>36587000.0</td>\n      <td>0.21</td>\n      <td>NA</td>\n    </tr>\n    <tr>\n      <th>33</th>\n      <td>2011-03-31</td>\n      <td>0.2708</td>\n      <td>38886000.0</td>\n      <td>0.27</td>\n      <td>NA</td>\n    </tr>\n    <tr>\n      <th>34</th>\n      <td>2010-12-31</td>\n      <td>5.5074</td>\n      <td>36316000.0</td>\n      <td>0.27</td>\n      <td>NA</td>\n    </tr>\n    <tr>\n      <th>35</th>\n      <td>2010-09-30</td>\n      <td>1.3679</td>\n      <td>34985000.0</td>\n      <td>0.21</td>\n      <td>NA</td>\n    </tr>\n    <tr>\n      <th>36</th>\n      <td>2010-06-30</td>\n      <td>23.0748</td>\n      <td>36004000.0</td>\n      <td>0.21</td>\n      <td>NA</td>\n    </tr>\n    <tr>\n      <th>37</th>\n      <td>2010-03-31</td>\n      <td>-0.0916</td>\n      <td>30599000.0</td>\n      <td>0.12</td>\n      <td>NA</td>\n    </tr>\n    <tr>\n      <th>38</th>\n      <td>2009-12-31</td>\n      <td>0.7639</td>\n      <td>-8057000.0</td>\n      <td>1.47</td>\n      <td>NA</td>\n    </tr>\n    <tr>\n      <th>39</th>\n      <td>2009-09-30</td>\n      <td>-3.4167</td>\n      <td>-95083000.0</td>\n      <td>-23.76</td>\n      <td>NA</td>\n    </tr>\n    <tr>\n      <th>40</th>\n      <td>2009-06-30</td>\n      <td>-1.0494</td>\n      <td>-1631000.0</td>\n      <td>-1.71</td>\n      <td>NA</td>\n    </tr>\n  </tbody>\n</table>\n</div>", 
                        "text/plain": "          date Revenue Growth Gross Profit     EPS Stock Price\n0   2019-06-30         0.2211   98807000.0    0.43     24.1453\n1   2019-03-31         0.1352   92217000.0    0.48     27.7806\n2   2018-12-31        -0.0101   82950000.0    0.51     27.6823\n3   2018-09-30         0.0875   81869000.0    0.55     28.8119\n4   2018-06-30         0.3066   80916000.0    0.51     20.9952\n5   2018-03-31         0.3203   81235000.0    0.45     19.7233\n6   2017-12-31         0.3486   83798000.0    0.23     18.7313\n7   2017-09-30         0.1964   75284000.0    0.41      18.703\n8   2017-06-30         0.1172   61928000.0    0.43     17.8612\n9   2017-03-31         0.4051   61527000.0     0.4     17.5811\n10  2016-12-31         0.3834   62136000.0     0.3     17.7657\n11  2016-09-30         0.4307   62926000.0     0.4     17.1481\n12  2016-06-30         0.2605   55429000.0    0.36     14.5481\n13  2016-03-31         0.0392   43788000.0    0.36     15.0425\n14  2015-12-31         0.1001   44914000.0    0.36          NA\n15  2015-09-30         0.0964   43984000.0    0.36          NA\n16  2015-06-30         0.1266   43974000.0    0.34          NA\n17  2015-03-31         0.0932   42135000.0    0.26          NA\n18  2014-12-31         0.0734   40826000.0    0.26          NA\n19  2014-09-30         0.0322   40115000.0    0.31          NA\n20  2014-06-30         0.0001   39033000.0    0.27          NA\n21  2014-03-31        -0.0174   38543000.0    0.27          NA\n22  2013-12-31         -0.043   38033000.0    0.21          NA\n23  2013-09-30         0.0327   38863000.0    0.24          NA\n24  2013-06-30          0.068   39028000.0    0.24          NA\n25  2013-03-31         0.0167   39224000.0    0.18          NA\n26  2012-12-31         0.0891   39742000.0    0.15          NA\n27  2012-09-30          0.005   37634000.0    0.15          NA\n28  2012-06-30        -0.0012   36544000.0    0.12          NA\n29  2012-03-31        -0.0079   38578000.0    0.24          NA\n30  2011-12-31         0.0048   36490000.0    0.15          NA\n31  2011-09-30         0.0703   37445000.0    0.24          NA\n32  2011-06-30         0.0162   36587000.0    0.21          NA\n33  2011-03-31         0.2708   38886000.0    0.27          NA\n34  2010-12-31         5.5074   36316000.0    0.27          NA\n35  2010-09-30         1.3679   34985000.0    0.21          NA\n36  2010-06-30        23.0748   36004000.0    0.21          NA\n37  2010-03-31        -0.0916   30599000.0    0.12          NA\n38  2009-12-31         0.7639   -8057000.0    1.47          NA\n39  2009-09-30        -3.4167  -95083000.0  -23.76          NA\n40  2009-06-30        -1.0494   -1631000.0   -1.71          NA"
                    }, 
                    "output_type": "execute_result"
                }
            ], 
            "source": "# Get API url for historical stock price\nurl_stock_price = (\"https://financialmodelingprep.com/api/v3/historical-price-full/?serietype=line\") # 63\n\n# Add ticker symbol into data URL - this extracts data from the website reference\napi_call = name_API_stock_price(ticker, url_stock_price)\n\n# Take the website data from json into a pandas dataframe\nstock_price = get_jsonparsed_data(api_call)\nstock_data_stock_price = stock_price[\"historical\"]\n#stock_data_stock_price\n\n# Reverse list to match descending order of main_dataframe\nstock_data_stock_price.reverse()\n\n# Add stock prices relevant to date into the main_dataframe\nmain_dataframe = add_to_dataframe(stock_data_stock_price, main_dataframe)\nmain_dataframe"
        }, 
        {
            "source": "### Part 2 - Indicator Calculations", 
            "cell_type": "markdown", 
            "metadata": {}
        }, 
        {
            "execution_count": null, 
            "cell_type": "code", 
            "metadata": {}, 
            "outputs": [], 
            "source": ""
        }, 
        {
            "source": "### Part 3 - Margin of Safety Calculation", 
            "cell_type": "markdown", 
            "metadata": {}
        }, 
        {
            "source": "### Part 4 - Data Visualization", 
            "cell_type": "markdown", 
            "metadata": {}
        }, 
        {
            "execution_count": 143, 
            "cell_type": "code", 
            "metadata": {}, 
            "outputs": [
                {
                    "execution_count": 143, 
                    "metadata": {}, 
                    "data": {
                        "text/plain": "\"\\nx = (clean_dataframe_income_statement['date'])[:5]\\ny = (clean_dataframe_income_statement['EPS'])[:5]\\n# Graph date vs EPS plot\\nplt.scatter(x, y)\\nplt.ylabel('Earnings Per Share')\\nplt.xlabel('Date')\\nplt.show()\\n\""
                    }, 
                    "output_type": "execute_result"
                }
            ], 
            "source": "# PLOTTING...\n\"\"\"\nx = (clean_dataframe_income_statement['date'])[:5]\ny = (clean_dataframe_income_statement['EPS'])[:5]\n# Graph date vs EPS plot\nplt.scatter(x, y)\nplt.ylabel('Earnings Per Share')\nplt.xlabel('Date')\nplt.show()\n\"\"\""
        }, 
        {
            "execution_count": null, 
            "cell_type": "code", 
            "metadata": {}, 
            "outputs": [], 
            "source": ""
        }
    ], 
    "metadata": {
        "kernelspec": {
            "display_name": "Python 3.6", 
            "name": "python3", 
            "language": "python"
        }, 
        "language_info": {
            "mimetype": "text/x-python", 
            "nbconvert_exporter": "python", 
            "version": "3.6.8", 
            "name": "python", 
            "file_extension": ".py", 
            "pygments_lexer": "ipython3", 
            "codemirror_mode": {
                "version": 3, 
                "name": "ipython"
            }
        }
    }, 
    "nbformat": 4
}