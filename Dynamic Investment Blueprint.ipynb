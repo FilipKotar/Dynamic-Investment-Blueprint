{
    "nbformat_minor": 1, 
    "cells": [
        {
            "source": "# Dynamic Investment Blueprint", 
            "cell_type": "markdown", 
            "metadata": {
                "collapsed": true
            }
        }, 
        {
            "source": "### Goal: Call a stock market API to target companies of interest while instantly eradicating any companies that do not pass validation boundaries from our initial investment strategy.", 
            "cell_type": "markdown", 
            "metadata": {}
        }, 
        {
            "source": "### Why? Finding new talent to invest in may be tough and time consuming. By validating companies with real-time updated data provided by a third-party company's API, we can save time and focus fundamental investment strategies. Note: achievement of growth or value investing", 
            "cell_type": "markdown", 
            "metadata": {}
        }, 
        {
            "source": "### This Project: The project that you will read about here is only an illustration of what we can accomplish with my program. This program may be re-used with any technical parameters of interest and will output an analysis that can be used for projections and straight forward visualization diagrams. In this example we will call the API and validate any companies that fit our 'growth' investing scope (boundaries). Growth investing methods look for smaller companies that have potential for high growth in the future. Although this method is prone to possible loss, if we win there is a much better payout. So lets hundred-fold our investment!", 
            "cell_type": "markdown", 
            "metadata": {}
        }, 
        {
            "source": "### Part 1 - Picking a Strategy", 
            "cell_type": "markdown", 
            "metadata": {}
        }, 
        {
            "source": "#### Importing libraries and packages", 
            "cell_type": "markdown", 
            "metadata": {}
        }, 
        {
            "execution_count": 33, 
            "cell_type": "code", 
            "metadata": {}, 
            "outputs": [], 
            "source": "import numpy as np\nimport pandas as pd\nimport matplotlib.pyplot as plt\nimport json"
        }, 
        {
            "source": "#### Declare Functions here", 
            "cell_type": "markdown", 
            "metadata": {}
        }, 
        {
            "source": "##### Function to import a javascript formatted URL into variable", 
            "cell_type": "markdown", 
            "metadata": {}
        }, 
        {
            "execution_count": 34, 
            "cell_type": "code", 
            "metadata": {}, 
            "outputs": [], 
            "source": "# This code was copied from,\n# Credit: https://financialmodelingprep.com/developer/docs/companies-key-stats-free-api/#Python\n#!/usr/bin/env python\n\ntry:\n    # For Python 3.0 and later\n    from urllib.request import urlopen\nexcept ImportError:\n    # Fall back to Python 2's urllib2\n    from urllib2 import urlopen\n\nimport json\n\ndef get_jsonparsed_data(url):\n    \"\"\"\n    Receive the content of ``url``, parse it as JSON and return the object.\n\n    Parameters\n    ----------\n    url : str\n\n    Returns\n    -------\n    dict\n    \"\"\"\n    \n    response = urlopen(url)\n    data = response.read().decode(\"utf-8\")\n    return json.loads(data)"
        }, 
        {
            "source": "##### Function to convert javascript into a pandas dataframe", 
            "cell_type": "markdown", 
            "metadata": {}
        }, 
        {
            "execution_count": 35, 
            "cell_type": "code", 
            "metadata": {}, 
            "outputs": [], 
            "source": "def json_to_empty_dataframe(dictionary):\n    columns = ['Company']\n    # Create a list of the dictionary keys\n    for keys in dictionary:\n        columns.append(keys)\n    \n    # Create a dataframe with the columns\n    initial_dataframe = pd.DataFrame(columns=columns)\n    \n    return initial_dataframe\n    \n#def json_fill_dataframe"
        }, 
        {
            "source": "##### Functions for Indicator Calculations", 
            "cell_type": "markdown", 
            "metadata": {}
        }, 
        {
            "execution_count": 38, 
            "cell_type": "code", 
            "metadata": {}, 
            "outputs": [], 
            "source": "# Use this function to calculate eps ratio\n#def earnings_per_share_ratio(total_profit, number_of_shares):\n\n# Use this function to find the growth of the eps\n#def earnings_per_share_growth(eps):"
        }, 
        {
            "source": "##### Other useful functions", 
            "cell_type": "markdown", 
            "metadata": {}
        }, 
        {
            "execution_count": 175, 
            "cell_type": "code", 
            "metadata": {}, 
            "outputs": [], 
            "source": "# Function which extracts a big list of companies\ndef company_list(stock_list):\n    # stock_list contains 'symbol', 'name', and 'price'\n    final_list = []\n    counter = 0\n    # Loop through all stock name and append them\n    for i in stock_list:\n        for key in stock_list[counter]:\n            #if key == 'price':\n                if (stock_list[counter])['price'] < 0.5:\n                    final_list.append((stock_list[counter])['symbol'])\n        counter = counter + 1\n        \n    return final_list\n\n# Function to input the stock symbol into the url so we can call the API\ndef name_API_company_profile(symbol, url):\n    return url[:54] + symbol + url[54:]\n\ndef name_API_income_statement(symbol, url):\n    return url[:69] + symbol + url[69:]"
        }, 
        {
            "source": "##### Call API from resource: financialmodelingprep.com", 
            "cell_type": "markdown", 
            "metadata": {}
        }, 
        {
            "source": "##### Get a ticker list of all companies in the stock market", 
            "cell_type": "markdown", 
            "metadata": {}
        }, 
        {
            "execution_count": 166, 
            "cell_type": "code", 
            "metadata": {}, 
            "outputs": [
                {
                    "output_type": "stream", 
                    "name": "stdout", 
                    "text": "['HK', 'HK', 'HK', 'WFT', 'WFT', 'WFT', 'TRQ', 'TRQ', 'TRQ', 'AMR', 'AMR', 'AMR', 'WIN', 'WIN', 'WIN', 'SPN', 'SPN', 'SPN', 'SN', 'SN', 'SN', 'UPL', 'UPL', 'UPL', 'GSAT', 'GSAT', 'GSAT', 'TTPH', 'TTPH', 'TTPH', 'HMNY', 'HMNY', 'HMNY', 'EPE', 'EPE', 'EPE', 'GST', 'GST', 'GST', 'AKAO', 'AKAO', 'AKAO', 'EVEP', 'EVEP', 'EVEP', 'FRED', 'FRED', 'FRED', 'ENRJ', 'ENRJ', 'ENRJ', 'APHB', 'APHB', 'APHB', 'SGYP', 'SGYP', 'SGYP', 'EGLT', 'EGLT', 'EGLT', 'DSS', 'DSS', 'DSS', 'ONVO', 'ONVO', 'ONVO', 'ASNA', 'ASNA', 'ASNA', 'CPHI', 'CPHI', 'CPHI', 'ACET', 'ACET', 'ACET', 'FSNN', 'FSNN', 'FSNN', 'BRS', 'BRS', 'BRS', 'SRRA', 'SRRA', 'SRRA', 'SHLD', 'SHLD', 'SHLD', 'PES', 'PES', 'PES', 'EVLV', 'EVLV', 'EVLV', 'ATNM', 'ATNM', 'ATNM', 'CNAT', 'CNAT', 'CNAT', 'AEMD', 'AEMD', 'AEMD', 'ADXS', 'ADXS', 'ADXS', 'EMES', 'EMES', 'EMES', 'FCEL', 'FCEL', 'FCEL', 'ZN', 'ZN', 'ZN', 'SIGM', 'SIGM', 'SIGM', 'INUV', 'INUV', 'INUV', 'CLD', 'CLD', 'CLD', 'INSY', 'INSY', 'INSY', 'ARLZ', 'ARLZ', 'ARLZ', 'RVLT', 'RVLT', 'RVLT', 'AREX', 'AREX', 'AREX', 'CGIX', 'CGIX', 'CGIX', 'PTX', 'PTX', 'PTX', 'FTD', 'FTD', 'FTD', 'HLTH', 'HLTH', 'HLTH', 'CEI', 'CEI', 'CEI', 'WLB', 'WLB', 'WLB', 'SNNA', 'SNNA', 'SNNA', 'LGCY', 'LGCY', 'LGCY', 'AMRWW', 'AMRWW', 'AMRWW', 'RTTR', 'RTTR', 'RTTR', 'LLEX', 'LLEX', 'LLEX', 'WG', 'WG', 'WG', 'LKM', 'LKM', 'LKM', 'TCON', 'TCON', 'TCON', 'AFH', 'AFH', 'AFH', 'RAS', 'RAS', 'RAS', 'EMAN', 'EMAN', 'EMAN', 'PLX', 'PLX', 'PLX', 'CFRX', 'CFRX', 'CFRX', 'JASN', 'JASN', 'JASN', 'QUIK', 'QUIK', 'QUIK', 'NAUH', 'NAUH', 'NAUH', 'GNMX', 'GNMX', 'GNMX', 'INPX', 'INPX', 'INPX', 'LODE', 'LODE', 'LODE', 'ESES', 'ESES', 'ESES', 'XPL', 'XPL', 'XPL', 'NXTD', 'NXTD', 'NXTD', 'OTIV', 'OTIV', 'OTIV', 'SQBG', 'SQBG', 'SQBG', 'TGB', 'TGB', 'TGB', 'IPCI', 'IPCI', 'IPCI', 'IMUC', 'IMUC', 'IMUC', 'KONA', 'KONA', 'KONA', 'FVE', 'FVE', 'FVE', 'CBK', 'CBK', 'CBK', 'ESNC', 'ESNC', 'ESNC', 'RSLS', 'RSLS', 'RSLS', 'SXE', 'SXE', 'SXE', 'TNTR', 'TNTR', 'TNTR', 'CREG', 'CREG', 'CREG', 'DNN', 'DNN', 'DNN', 'NURO', 'NURO', 'NURO', 'PLM', 'PLM', 'PLM', 'RXII', 'RXII', 'RXII', 'AMDA', 'AMDA', 'AMDA', 'ANTH', 'ANTH', 'ANTH', 'AUMN', 'AUMN', 'AUMN', 'DRIO', 'DRIO', 'DRIO', 'MYSZ', 'MYSZ', 'MYSZ', 'OREX', 'OREX', 'OREX', 'TTNP', 'TTNP', 'TTNP', 'CXRX', 'CXRX', 'CXRX', 'CYCC', 'CYCC', 'CYCC', 'HSGX', 'HSGX', 'HSGX', 'LENS', 'LENS', 'LENS', 'SLS', 'SLS', 'SLS', 'SYN', 'SYN', 'SYN', 'TNXP', 'TNXP', 'TNXP', 'WYY', 'WYY', 'WYY', 'YOGA', 'YOGA', 'YOGA', 'PRTO', 'PRTO', 'PRTO', 'ADOM', 'ADOM', 'ADOM', 'ADXSW', 'ADXSW', 'ADXSW', 'AGFSW', 'AGFSW', 'AGFSW', 'AHPAW', 'AHPAW', 'AHPAW', 'AIHS', 'AIHS', 'AIHS', 'ALN', 'ALN', 'ALN', 'AMMA', 'AMMA', 'AMMA', 'AMRH', 'AMRH', 'AMRH', 'AMRHW', 'AMRHW', 'AMRHW', 'APDN', 'APDN', 'APDN', 'APRI', 'APRI', 'APRI', 'ARCW', 'ARCW', 'ARCW', 'ARDM', 'ARDM', 'ARDM', 'ARGS', 'ARGS', 'ARGS', 'BCACR', 'BCACR', 'BCACR', 'BCACW', 'BCACW', 'BCACW', 'BLNKW', 'BLNKW', 'BLNKW', 'BORN', 'BORN', 'BORN', 'BPMX', 'BPMX', 'BPMX', 'BRACR', 'BRACR', 'BRACR', 'BRACW', 'BRACW', 'BRACW', 'BRPAR', 'BRPAR', 'BRPAR', 'BRPAW', 'BRPAW', 'BRPAW', 'CETXW', 'CETXW', 'CETXW', 'CLDC', 'CLDC', 'CLDC', 'CLRBW', 'CLRBW', 'CLRBW', 'CLRBZ', 'CLRBZ', 'CLRBZ', 'CMSSR', 'CMSSR', 'CMSSR', 'CMSSW', 'CMSSW', 'CMSSW', 'CNACR', 'CNACR', 'CNACR', 'CNACW', 'CNACW', 'CNACW', 'CNTF', 'CNTF', 'CNTF', 'CYHHZ', 'CYHHZ', 'CYHHZ', 'CYTR', 'CYTR', 'CYTR', 'CYTX', 'CYTX', 'CYTX', 'CYTXW', 'CYTXW', 'CYTXW', 'DLPNW', 'DLPNW', 'DLPNW', 'DOTAR', 'DOTAR', 'DOTAR', 'DOTAW', 'DOTAW', 'DOTAW', 'DTRM', 'DTRM', 'DTRM', 'EFOI', 'EFOI', 'EFOI', 'EGI', 'EGI', 'EGI', 'ENSV', 'ENSV', 'ENSV', 'ESTRW', 'ESTRW', 'ESTRW', 'EYESW', 'EYESW', 'EYESW', 'FELP', 'FELP', 'FELP', 'GMO', 'GMO', 'GMO', 'GPAQW', 'GPAQW', 'GPAQW', 'HGT', 'HGT', 'HGT', 'HUNTW', 'HUNTW', 'HUNTW', 'HUSA', 'HUSA', 'HUSA', 'IAMXR', 'IAMXR', 'IAMXR', 'IAMXW', 'IAMXW', 'IAMXW', 'IMNP', 'IMNP', 'IMNP', 'ISR', 'ISR', 'ISR', 'IZEA', 'IZEA', 'IZEA', 'JRJR', 'JRJR', 'JRJR', 'JSYNR', 'JSYNR', 'JSYNR', 'KBLMR', 'KBLMR', 'KBLMR', 'KBLMW', 'KBLMW', 'KBLMW', 'MCEP', 'MCEP', 'MCEP', 'MICTW', 'MICTW', 'MICTW', 'MMDMW', 'MMDMW', 'MMDMW', 'MRDNW', 'MRDNW', 'MRDNW', 'MTFBW', 'MTFBW', 'MTFBW', 'MYNDW', 'MYNDW', 'MYNDW', 'NAKD', 'NAKD', 'NAKD', 'NESRW', 'NESRW', 'NESRW', 'NHLDW', 'NHLDW', 'NHLDW', 'NNDM', 'NNDM', 'NNDM', 'NNVC', 'NNVC', 'NNVC', 'OHGI', 'OHGI', 'OHGI', 'ONSIZ', 'ONSIZ', 'ONSIZ', 'ONTXW', 'ONTXW', 'ONTXW', 'OXBRW', 'OXBRW', 'OXBRW', 'PAVMW', 'PAVMW', 'PAVMW', 'PRKR', 'PRKR', 'PRKR', 'RGSE', 'RGSE', 'RGSE', 'RIBTW', 'RIBTW', 'RIBTW', 'ROSG', 'ROSG', 'ROSG', 'RXIIW', 'RXIIW', 'RXIIW', 'SCACW', 'SCACW', 'SCACW', 'SGLBW', 'SGLBW', 'SGLBW', 'SHIPW', 'SHIPW', 'SHIPW', 'SNGXW', 'SNGXW', 'SNGXW', 'SNMP', 'SNMP', 'SNMP', 'SRTSW', 'SRTSW', 'SRTSW', 'STLRW', 'STLRW', 'STLRW', 'SUMR', 'SUMR', 'SUMR', 'TMSRW', 'TMSRW', 'TMSRW', 'TRIL', 'TRIL', 'TRIL', 'VEACW', 'VEACW', 'VEACW', 'VII', 'VII', 'VII', 'WHLRW', 'WHLRW', 'WHLRW', 'WMGIZ', 'WMGIZ', 'WMGIZ', 'WRLSR', 'WRLSR', 'WRLSR', 'WRLSW', 'WRLSW', 'WRLSW', 'XGTI', 'XGTI', 'XGTI', 'ZOM', 'ZOM', 'ZOM']\n"
                }
            ], 
            "source": "# Import companies from API\nurl_stocks = (\"https://financialmodelingprep.com/api/v3/company/stock/list\")\nstock_list = get_jsonparsed_data(url_stocks)\n\nhierarchy = stock_list[\"symbolsList\"]\n# Convert json data into a list of all stocks\nall_stocks = company_list(hierarchy)\nprint(all_stocks)"
        }, 
        {
            "source": "#### Create an empty dataframe with relevant columns of multiple stocks", 
            "cell_type": "markdown", 
            "metadata": {}
        }, 
        {
            "execution_count": 176, 
            "cell_type": "code", 
            "metadata": {}, 
            "outputs": [
                {
                    "output_type": "stream", 
                    "name": "stdout", 
                    "text": "https://financialmodelingprep.com/api/company/profile/AAPL?datatype=json\n{'Price': 219.46, 'Beta': '1.139593', 'VolAvg': '36724977', 'MktCap': '1090573773990.00', 'LastDiv': '2.92', 'Range': '142-233.47', 'Changes': -0.01, 'ChangesPerc': '(-0.00%)', 'companyName': 'Apple Inc.', 'exchange': 'Nasdaq Global Select', 'industry': 'Computer Hardware', 'website': 'http://www.apple.com', 'description': 'Apple Inc is designs, manufactures and markets mobile communication and media devices and personal computers, and sells a variety of related software, services, accessories, networking solutions and third-party digital content and applications.', 'CEO': 'Timothy D. Cook', 'sector': 'Technology', 'date_is_filed': None, 'date_bs_filed': None, 'date_cs_filed': None, 'image': 'https://financialmodelingprep.com/images-New-jpg/AAPL.jpg'}\n"
                }, 
                {
                    "execution_count": 176, 
                    "metadata": {}, 
                    "data": {
                        "text/html": "<div>\n<style scoped>\n    .dataframe tbody tr th:only-of-type {\n        vertical-align: middle;\n    }\n\n    .dataframe tbody tr th {\n        vertical-align: top;\n    }\n\n    .dataframe thead th {\n        text-align: right;\n    }\n</style>\n<table border=\"1\" class=\"dataframe\">\n  <thead>\n    <tr style=\"text-align: right;\">\n      <th></th>\n      <th>Company</th>\n      <th>Price</th>\n      <th>Beta</th>\n      <th>VolAvg</th>\n      <th>MktCap</th>\n      <th>LastDiv</th>\n      <th>Range</th>\n      <th>Changes</th>\n      <th>ChangesPerc</th>\n      <th>companyName</th>\n      <th>exchange</th>\n      <th>industry</th>\n      <th>website</th>\n      <th>description</th>\n      <th>CEO</th>\n      <th>sector</th>\n      <th>date_is_filed</th>\n      <th>date_bs_filed</th>\n      <th>date_cs_filed</th>\n      <th>image</th>\n    </tr>\n  </thead>\n  <tbody>\n  </tbody>\n</table>\n</div>", 
                        "text/plain": "Empty DataFrame\nColumns: [Company, Price, Beta, VolAvg, MktCap, LastDiv, Range, Changes, ChangesPerc, companyName, exchange, industry, website, description, CEO, sector, date_is_filed, date_bs_filed, date_cs_filed, image]\nIndex: []"
                    }, 
                    "output_type": "execute_result"
                }
            ], 
            "source": "# Identify our data identifiers\nticker = \"AAPL\"\nurl_company_profile = (\"https://financialmodelingprep.com/api/company/profile/?datatype=json\") #54\nurl_income_statement = (\"https://financialmodelingprep.com/api/v3/financials/income-statement/?period=quarter\") #68\n\n# Add ticker symbol into data URL - this extracts data from the website reference\napi_call = name_API_company_profile(ticker, url_company_profile)\nprint(api_call)\n\n\n# Take the website data from json into a pandas dataframe\njs = get_jsonparsed_data(api_call)\nstock_data = js[ticker]\nprint(stock_data)\n\ntest = json_to_empty_dataframe(stock_data)\ntest\n#for key in stock_data:\n #   print(key)\n "
        }, 
        {
            "source": "##### Create a dataframe of one stock we want to look deeper into, this is where all the analysis of single stocks will come from", 
            "cell_type": "markdown", 
            "metadata": {}
        }, 
        {
            "execution_count": 178, 
            "cell_type": "code", 
            "metadata": {}, 
            "outputs": [], 
            "source": "url_income_statement = (\"https://financialmodelingprep.com/api/v3/financials/income-statement/?period=quarter\") #68\n\n# Add ticker symbol into data URL - this extracts data from the website reference\napi_call = name_API_income_statement(ticker, url_income_statement)\n\n"
        }
    ], 
    "metadata": {
        "kernelspec": {
            "display_name": "Python 3.6", 
            "name": "python3", 
            "language": "python"
        }, 
        "language_info": {
            "mimetype": "text/x-python", 
            "nbconvert_exporter": "python", 
            "version": "3.6.8", 
            "name": "python", 
            "file_extension": ".py", 
            "pygments_lexer": "ipython3", 
            "codemirror_mode": {
                "version": 3, 
                "name": "ipython"
            }
        }
    }, 
    "nbformat": 4
}