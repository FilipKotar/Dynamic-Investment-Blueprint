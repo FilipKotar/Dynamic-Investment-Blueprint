{
    "nbformat_minor": 1, 
    "cells": [
        {
            "source": "# Dynamic Investment Blueprint", 
            "cell_type": "markdown", 
            "metadata": {
                "collapsed": true
            }
        }, 
        {
            "source": "### Goal: Call a stock market API to target companies of interest while instantly eradicating any companies that do not pass validation boundaries from our initial investment strategy.", 
            "cell_type": "markdown", 
            "metadata": {}
        }, 
        {
            "source": "### Why? Finding new talent to invest in may be tough and time consuming. By validating companies with real-time updated data provided by a third-party company's API, we can save time and focus fundamental investment strategies. Note: achievement of growth or value investing", 
            "cell_type": "markdown", 
            "metadata": {}
        }, 
        {
            "source": "### This Project: The project that you will read about here is only an illustration of what we can accomplish with my program. This program may be re-used with any technical parameters of interest and will output an analysis that can be used for projections and straight forward visualization diagrams. In this example we will call the API and validate any companies that fit our 'growth' investing scope (boundaries). Growth investing methods look for smaller companies that have potential for high growth in the future. Although this method is prone to possible loss, if we win there is a much better payout. So lets hundred-fold our investment!", 
            "cell_type": "markdown", 
            "metadata": {}
        }, 
        {
            "source": "### Part 1 - Picking a Strategy", 
            "cell_type": "markdown", 
            "metadata": {}
        }, 
        {
            "source": "#### Importing libraries and packages", 
            "cell_type": "markdown", 
            "metadata": {}
        }, 
        {
            "execution_count": 1, 
            "cell_type": "code", 
            "metadata": {}, 
            "outputs": [], 
            "source": "import numpy as np\nimport pandas as pd\nimport matplotlib.pyplot as plt\nimport json"
        }, 
        {
            "source": "#### Declare Functions here", 
            "cell_type": "markdown", 
            "metadata": {}
        }, 
        {
            "source": "##### Function to import a javascript formatted URL into variable", 
            "cell_type": "markdown", 
            "metadata": {}
        }, 
        {
            "execution_count": 2, 
            "cell_type": "code", 
            "metadata": {}, 
            "outputs": [], 
            "source": "# This code was copied from,\n# Credit: https://financialmodelingprep.com/developer/docs/companies-key-stats-free-api/#Python\n#!/usr/bin/env python\n\ntry:\n    # For Python 3.0 and later\n    from urllib.request import urlopen\nexcept ImportError:\n    # Fall back to Python 2's urllib2\n    from urllib2 import urlopen\n\nimport json\n\ndef get_jsonparsed_data(url):\n    \"\"\"\n    Receive the content of ``url``, parse it as JSON and return the object.\n\n    Parameters\n    ----------\n    url : str\n\n    Returns\n    -------\n    dict\n    \"\"\"\n    \n    response = urlopen(url)\n    data = response.read().decode(\"utf-8\")\n    return json.loads(data)"
        }, 
        {
            "source": "##### Function to convert javascript into a pandas dataframe", 
            "cell_type": "markdown", 
            "metadata": {}
        }, 
        {
            "execution_count": 3, 
            "cell_type": "code", 
            "metadata": {}, 
            "outputs": [], 
            "source": "def json_to_empty_dataframe(dictionary):\n    columns = ['Company']\n    # Create a list of the dictionary keys\n    for keys in dictionary:\n        columns.append(keys)\n    \n    # Create a dataframe with the columns\n    initial_dataframe = pd.DataFrame(columns=columns)\n    \n    return initial_dataframe\n    \n#def json_fill_dataframe"
        }, 
        {
            "source": "##### Functions for Indicator Calculations", 
            "cell_type": "markdown", 
            "metadata": {}
        }, 
        {
            "execution_count": 4, 
            "cell_type": "code", 
            "metadata": {}, 
            "outputs": [], 
            "source": "# Use this function to calculate eps ratio\n#def earnings_per_share_ratio(total_profit, number_of_shares):\n\n# Use this function to find the growth of the eps\n#def earnings_per_share_growth(eps):"
        }, 
        {
            "source": "##### Other useful functions", 
            "cell_type": "markdown", 
            "metadata": {}
        }, 
        {
            "execution_count": 124, 
            "cell_type": "code", 
            "metadata": {}, 
            "outputs": [], 
            "source": "# Function which extracts a big list of companies\ndef company_list(stock_list):\n    # stock_list contains 'symbol', 'name', and 'price'\n    final_list = []\n    counter = 0\n    # Loop through all stock name and append them\n    for i in stock_list:\n        for key in stock_list[counter]:\n            #if key == 'price':\n                if (stock_list[counter])['price'] < 0.5:\n                    final_list.append((stock_list[counter])['symbol'])\n        counter = counter + 1\n        \n    return final_list\n\n# Function which adds values of the income statement to a stock\ndef income_statement_dataframe(income_statement):\n    # income_statement contains multiple dictionaries with 'financials': 'Company', 'date', 'Revenue Growth', 'EPS'\n    final_list = []\n    temp = []\n    counter = 0\n    # Loop through all stock name and append them\n    for i in income_statement:\n        for key in income_statement[counter]:\n            if (key == 'date') or (key == 'Revenue Growth') or (key == 'EPS'):\n                independent = income_statement[counter]\n                final_list.append(independent[key])\n        temp.append(final_list)\n        final_list = []\n        counter = counter + 1\n    clean_dataframe_income_statement = pd.DataFrame(temp, columns=['date', 'Revenue Growth', 'EPS'])\n        \n    return clean_dataframe_income_statement\n\n# Function to match stock price with the dates in the main_dataframe then add the stock price column after match identification\ndef add_to_dataframe(stock_price, main_dataframe):\n\n    counter = 0\n    temp = []\n    test = []\n    prices = []\n\n    for i in stock_price:\n        temp.append((stock_price[counter])['date'])\n        temp.append((stock_price[counter])['close'])\n        test.append(temp)\n        temp = []\n        counter = counter + 1\n\n\n    main_list = (main_dataframe['date'])\n\n    # My Testing Strategy: (main_list[counter])[0:9] == (test[counter][0])[0:9]\n    # If we have a hit, input test[counter][1] into a new list, then break loop and increment counter\n    for dates in main_list:\n        for loop_through in range(0, len(test)-1):\n            if dates[0:9] == (test[loop_through][0])[0:9]:\n                prices.append(test[loop_through][1])\n                break\n\n    # If information is missing from the API, fill the rest of the column in with 'NA'\n    for i in range(0, 41-len(prices)):\n        prices.append('NA')\n\n    main_dataframe['Stock Price'] = prices\n    return main_dataframe\n\nadd_to_dataframe(stock_data_stock_price, main_dataframe)\n\n\n# Functions to input the stock symbol into the url so we can call the API\ndef name_API_company_profile(symbol, url):\n    return url[:54] + symbol + url[54:]\n\ndef name_API_income_statement(symbol, url):\n    return url[:69] + symbol + url[69:]\n\ndef name_API_stock_price(symbol, url):\n    return url[:63] + symbol + url[63:]\n##########################################################################"
        }, 
        {
            "source": "##### Call API from resource: financialmodelingprep.com", 
            "cell_type": "markdown", 
            "metadata": {}
        }, 
        {
            "source": "##### Get a ticker list of all companies in the stock market", 
            "cell_type": "markdown", 
            "metadata": {}
        }, 
        {
            "execution_count": 6, 
            "cell_type": "code", 
            "metadata": {}, 
            "outputs": [], 
            "source": "# Import companies from API\nurl_stocks = (\"https://financialmodelingprep.com/api/v3/company/stock/list\")\nstock_list = get_jsonparsed_data(url_stocks)\n\nhierarchy = stock_list[\"symbolsList\"]\n# Convert json data into a list of all stocks\nall_stocks = company_list(hierarchy)"
        }, 
        {
            "source": "#### Create an empty dataframe with relevant columns of multiple stocks", 
            "cell_type": "markdown", 
            "metadata": {}
        }, 
        {
            "execution_count": 7, 
            "cell_type": "code", 
            "metadata": {}, 
            "outputs": [
                {
                    "execution_count": 7, 
                    "metadata": {}, 
                    "data": {
                        "text/html": "<div>\n<style scoped>\n    .dataframe tbody tr th:only-of-type {\n        vertical-align: middle;\n    }\n\n    .dataframe tbody tr th {\n        vertical-align: top;\n    }\n\n    .dataframe thead th {\n        text-align: right;\n    }\n</style>\n<table border=\"1\" class=\"dataframe\">\n  <thead>\n    <tr style=\"text-align: right;\">\n      <th></th>\n      <th>Company</th>\n      <th>Price</th>\n      <th>Beta</th>\n      <th>VolAvg</th>\n      <th>MktCap</th>\n      <th>LastDiv</th>\n      <th>Range</th>\n      <th>Changes</th>\n      <th>ChangesPerc</th>\n      <th>companyName</th>\n      <th>exchange</th>\n      <th>industry</th>\n      <th>website</th>\n      <th>description</th>\n      <th>CEO</th>\n      <th>sector</th>\n      <th>date_is_filed</th>\n      <th>date_bs_filed</th>\n      <th>date_cs_filed</th>\n      <th>image</th>\n    </tr>\n  </thead>\n  <tbody>\n  </tbody>\n</table>\n</div>", 
                        "text/plain": "Empty DataFrame\nColumns: [Company, Price, Beta, VolAvg, MktCap, LastDiv, Range, Changes, ChangesPerc, companyName, exchange, industry, website, description, CEO, sector, date_is_filed, date_bs_filed, date_cs_filed, image]\nIndex: []"
                    }, 
                    "output_type": "execute_result"
                }
            ], 
            "source": "# Identify our data identifiers\nticker = \"AAPL\"\n\n# Get API url for company profile\nurl_company_profile = (\"https://financialmodelingprep.com/api/company/profile/?datatype=json\") #54\n# Add ticker symbol into data URL - this extracts data from the website reference\napi_call = name_API_company_profile(ticker, url_company_profile)\n\n# Take the website data from json into a pandas dataframe\njs = get_jsonparsed_data(api_call)\nstock_data = js[ticker]\n\ntest = json_to_empty_dataframe(stock_data)\ntest"
        }, 
        {
            "source": "##### Create a dataframe of one stock we want to look deeper into, this is where all the analysis of single stocks will come from", 
            "cell_type": "markdown", 
            "metadata": {}
        }, 
        {
            "execution_count": 42, 
            "cell_type": "code", 
            "metadata": {
                "scrolled": true
            }, 
            "outputs": [
                {
                    "execution_count": 42, 
                    "metadata": {}, 
                    "data": {
                        "text/html": "<div>\n<style scoped>\n    .dataframe tbody tr th:only-of-type {\n        vertical-align: middle;\n    }\n\n    .dataframe tbody tr th {\n        vertical-align: top;\n    }\n\n    .dataframe thead th {\n        text-align: right;\n    }\n</style>\n<table border=\"1\" class=\"dataframe\">\n  <thead>\n    <tr style=\"text-align: right;\">\n      <th></th>\n      <th>date</th>\n      <th>Revenue Growth</th>\n      <th>EPS</th>\n    </tr>\n  </thead>\n  <tbody>\n    <tr>\n      <th>0</th>\n      <td>2019-06-29</td>\n      <td>0.0102</td>\n      <td>2.2</td>\n    </tr>\n    <tr>\n      <th>1</th>\n      <td>2019-03-30</td>\n      <td>-0.0511</td>\n      <td>2.47</td>\n    </tr>\n    <tr>\n      <th>2</th>\n      <td>2018-12-29</td>\n      <td>-0.0451</td>\n      <td>4.22</td>\n    </tr>\n    <tr>\n      <th>3</th>\n      <td>2018-09-29</td>\n      <td>0.1963</td>\n      <td>2.94</td>\n    </tr>\n    <tr>\n      <th>4</th>\n      <td>2018-06-30</td>\n      <td>0.173</td>\n      <td>2.36</td>\n    </tr>\n    <tr>\n      <th>5</th>\n      <td>2018-03-31</td>\n      <td>0.1558</td>\n      <td>2.75</td>\n    </tr>\n    <tr>\n      <th>6</th>\n      <td>2017-12-30</td>\n      <td>0.1269</td>\n      <td>3.92</td>\n    </tr>\n    <tr>\n      <th>7</th>\n      <td>2017-09-30</td>\n      <td>0.1222</td>\n      <td>2.09</td>\n    </tr>\n    <tr>\n      <th>8</th>\n      <td>2017-07-01</td>\n      <td>0.072</td>\n      <td>1.68</td>\n    </tr>\n    <tr>\n      <th>9</th>\n      <td>2017-04-01</td>\n      <td>0.0463</td>\n      <td>2.11</td>\n    </tr>\n    <tr>\n      <th>10</th>\n      <td>2016-12-31</td>\n      <td>0.0327</td>\n      <td>3.38</td>\n    </tr>\n    <tr>\n      <th>11</th>\n      <td>2016-09-24</td>\n      <td>-0.0903</td>\n      <td>1.69</td>\n    </tr>\n    <tr>\n      <th>12</th>\n      <td>2016-06-25</td>\n      <td>-0.1461</td>\n      <td>1.43</td>\n    </tr>\n    <tr>\n      <th>13</th>\n      <td>2016-03-26</td>\n      <td>-0.1285</td>\n      <td>1.91</td>\n    </tr>\n    <tr>\n      <th>14</th>\n      <td>2015-12-26</td>\n      <td>0.0171</td>\n      <td>3.3</td>\n    </tr>\n    <tr>\n      <th>15</th>\n      <td>2015-09-26</td>\n      <td>0.2226</td>\n      <td>1.98</td>\n    </tr>\n    <tr>\n      <th>16</th>\n      <td>2015-06-27</td>\n      <td>0.3252</td>\n      <td>1.86</td>\n    </tr>\n    <tr>\n      <th>17</th>\n      <td>2015-03-28</td>\n      <td>0.2709</td>\n      <td>2.34</td>\n    </tr>\n    <tr>\n      <th>18</th>\n      <td>2014-12-27</td>\n      <td>0.2953</td>\n      <td>3.08</td>\n    </tr>\n    <tr>\n      <th>19</th>\n      <td>2014-09-27</td>\n      <td>0.1241</td>\n      <td>1.43</td>\n    </tr>\n    <tr>\n      <th>20</th>\n      <td>2014-06-28</td>\n      <td>0.0597</td>\n      <td>1.29</td>\n    </tr>\n    <tr>\n      <th>21</th>\n      <td>2014-03-29</td>\n      <td>0.0469</td>\n      <td>1.67</td>\n    </tr>\n    <tr>\n      <th>22</th>\n      <td>2013-12-28</td>\n      <td>0.0565</td>\n      <td>2.08</td>\n    </tr>\n    <tr>\n      <th>23</th>\n      <td>2013-09-28</td>\n      <td>0.0419</td>\n      <td>1.2</td>\n    </tr>\n    <tr>\n      <th>24</th>\n      <td>2013-06-29</td>\n      <td>0.0086</td>\n      <td>1.07</td>\n    </tr>\n    <tr>\n      <th>25</th>\n      <td>2013-03-30</td>\n      <td>0.1127</td>\n      <td>1.451</td>\n    </tr>\n    <tr>\n      <th>26</th>\n      <td>2012-12-29</td>\n      <td>0.1765</td>\n      <td>1.99</td>\n    </tr>\n    <tr>\n      <th>27</th>\n      <td>2012-09-29</td>\n      <td>0.2722</td>\n      <td>1.253</td>\n    </tr>\n    <tr>\n      <th>28</th>\n      <td>2012-06-30</td>\n      <td>0.2258</td>\n      <td>1.346</td>\n    </tr>\n    <tr>\n      <th>29</th>\n      <td>2012-03-31</td>\n      <td>0.5886</td>\n      <td>1.779</td>\n    </tr>\n    <tr>\n      <th>30</th>\n      <td>2011-12-31</td>\n      <td>0.7327</td>\n      <td>2.004</td>\n    </tr>\n    <tr>\n      <th>31</th>\n      <td>2011-09-24</td>\n      <td>0.3897</td>\n      <td>1.02</td>\n    </tr>\n    <tr>\n      <th>32</th>\n      <td>2011-06-25</td>\n      <td>0.8198</td>\n      <td>1.127</td>\n    </tr>\n    <tr>\n      <th>33</th>\n      <td>2011-03-26</td>\n      <td>0.8273</td>\n      <td>0.927</td>\n    </tr>\n    <tr>\n      <th>34</th>\n      <td>2010-12-25</td>\n      <td>0.7051</td>\n      <td>0.933</td>\n    </tr>\n    <tr>\n      <th>35</th>\n      <td>2010-09-25</td>\n      <td>0.6665</td>\n      <td>0.674</td>\n    </tr>\n    <tr>\n      <th>36</th>\n      <td>2010-06-26</td>\n      <td>0.6129</td>\n      <td>0.51</td>\n    </tr>\n    <tr>\n      <th>37</th>\n      <td>2010-03-27</td>\n      <td>0.486</td>\n      <td>0.484</td>\n    </tr>\n    <tr>\n      <th>38</th>\n      <td>2009-12-26</td>\n      <td>0.3201</td>\n      <td>0.534</td>\n    </tr>\n    <tr>\n      <th>39</th>\n      <td>2009-09-26</td>\n      <td>-0.0542</td>\n      <td>0.403</td>\n    </tr>\n    <tr>\n      <th>40</th>\n      <td>2009-06-27</td>\n      <td>0.3041</td>\n      <td>0.293</td>\n    </tr>\n  </tbody>\n</table>\n</div>", 
                        "text/plain": "          date Revenue Growth    EPS\n0   2019-06-29         0.0102    2.2\n1   2019-03-30        -0.0511   2.47\n2   2018-12-29        -0.0451   4.22\n3   2018-09-29         0.1963   2.94\n4   2018-06-30          0.173   2.36\n5   2018-03-31         0.1558   2.75\n6   2017-12-30         0.1269   3.92\n7   2017-09-30         0.1222   2.09\n8   2017-07-01          0.072   1.68\n9   2017-04-01         0.0463   2.11\n10  2016-12-31         0.0327   3.38\n11  2016-09-24        -0.0903   1.69\n12  2016-06-25        -0.1461   1.43\n13  2016-03-26        -0.1285   1.91\n14  2015-12-26         0.0171    3.3\n15  2015-09-26         0.2226   1.98\n16  2015-06-27         0.3252   1.86\n17  2015-03-28         0.2709   2.34\n18  2014-12-27         0.2953   3.08\n19  2014-09-27         0.1241   1.43\n20  2014-06-28         0.0597   1.29\n21  2014-03-29         0.0469   1.67\n22  2013-12-28         0.0565   2.08\n23  2013-09-28         0.0419    1.2\n24  2013-06-29         0.0086   1.07\n25  2013-03-30         0.1127  1.451\n26  2012-12-29         0.1765   1.99\n27  2012-09-29         0.2722  1.253\n28  2012-06-30         0.2258  1.346\n29  2012-03-31         0.5886  1.779\n30  2011-12-31         0.7327  2.004\n31  2011-09-24         0.3897   1.02\n32  2011-06-25         0.8198  1.127\n33  2011-03-26         0.8273  0.927\n34  2010-12-25         0.7051  0.933\n35  2010-09-25         0.6665  0.674\n36  2010-06-26         0.6129   0.51\n37  2010-03-27          0.486  0.484\n38  2009-12-26         0.3201  0.534\n39  2009-09-26        -0.0542  0.403\n40  2009-06-27         0.3041  0.293"
                    }, 
                    "output_type": "execute_result"
                }
            ], 
            "source": "# Get API url for income statement information\nurl_income_statement = (\"https://financialmodelingprep.com/api/v3/financials/income-statement/?period=quarter\") #69\n\n# Add ticker symbol into data URL - this extracts data from the website reference\napi_call = name_API_income_statement(ticker, url_income_statement)\n\n# Take the website data from json into a pandas dataframe\nincome_statement = get_jsonparsed_data(api_call)\nstock_data_income_statement = income_statement[\"financials\"]\n\n# Create empty pandas dataframe\ndataframe_income_statement = json_to_empty_dataframe(stock_data_income_statement[0])\n\n# Delete All unecessary columns from pandas dataframe\nclean_dataframe_income_statement = dataframe_income_statement.drop(columns=[ 'Company', 'Revenue', 'Cost of Revenue', 'Gross Profit', 'R&D Expenses', 'SG&A Expense',\n                                                                            'Operating Expenses', 'Operating Income', 'Interest Expense', 'Earnings before Tax', \n                                                                            'Income Tax Expense', 'Net Income - Non-Controlling int', 'Net Income - Discontinued ops', \n                                                                            'Net Income', 'Preferred Dividends', 'Net Income Com', 'EPS Diluted', 'Weighted Average Shs Out', 'Weighted Average Shs Out (Dil)',\n                                                                            'Dividend per Share', 'Gross Margin', 'EBITDA Margin', 'EBIT Margin', 'Profit Margin', 'Free Cash Flow margin',\n                                                                            'EBITDA', 'EBIT', 'Consolidated Income', 'Earnings Before Tax Margin', 'Net Profit Margin'])\n\nmain_dataframe = income_statement_dataframe(stock_data_income_statement)\n\n# Output Clean DataFrame\nmain_dataframe"
        }, 
        {
            "source": "##### Add a 'Stock Price' column to the main_dataframe", 
            "cell_type": "markdown", 
            "metadata": {}
        }, 
        {
            "execution_count": 125, 
            "cell_type": "code", 
            "metadata": {
                "scrolled": true
            }, 
            "outputs": [
                {
                    "execution_count": 125, 
                    "metadata": {}, 
                    "data": {
                        "text/html": "<div>\n<style scoped>\n    .dataframe tbody tr th:only-of-type {\n        vertical-align: middle;\n    }\n\n    .dataframe tbody tr th {\n        vertical-align: top;\n    }\n\n    .dataframe thead th {\n        text-align: right;\n    }\n</style>\n<table border=\"1\" class=\"dataframe\">\n  <thead>\n    <tr style=\"text-align: right;\">\n      <th></th>\n      <th>date</th>\n      <th>Revenue Growth</th>\n      <th>EPS</th>\n      <th>Stock Price</th>\n    </tr>\n  </thead>\n  <tbody>\n    <tr>\n      <th>0</th>\n      <td>2019-06-29</td>\n      <td>0.0102</td>\n      <td>2.2</td>\n      <td>197.64</td>\n    </tr>\n    <tr>\n      <th>1</th>\n      <td>2019-03-30</td>\n      <td>-0.0511</td>\n      <td>2.47</td>\n      <td>154.966</td>\n    </tr>\n    <tr>\n      <th>2</th>\n      <td>2018-12-29</td>\n      <td>-0.0451</td>\n      <td>4.22</td>\n      <td>223.135</td>\n    </tr>\n    <tr>\n      <th>3</th>\n      <td>2018-09-29</td>\n      <td>0.1963</td>\n      <td>2.94</td>\n      <td>139.844</td>\n    </tr>\n    <tr>\n      <th>4</th>\n      <td>2018-06-30</td>\n      <td>0.173</td>\n      <td>2.36</td>\n      <td>138.458</td>\n    </tr>\n    <tr>\n      <th>5</th>\n      <td>2018-03-31</td>\n      <td>0.1558</td>\n      <td>2.75</td>\n      <td>111.392</td>\n    </tr>\n    <tr>\n      <th>6</th>\n      <td>2017-12-30</td>\n      <td>0.1269</td>\n      <td>3.92</td>\n      <td>107.34</td>\n    </tr>\n    <tr>\n      <th>7</th>\n      <td>2017-09-30</td>\n      <td>0.1222</td>\n      <td>2.09</td>\n      <td>89.8407</td>\n    </tr>\n    <tr>\n      <th>8</th>\n      <td>2017-07-01</td>\n      <td>0.072</td>\n      <td>1.68</td>\n      <td>101.859</td>\n    </tr>\n    <tr>\n      <th>9</th>\n      <td>2017-04-01</td>\n      <td>0.0463</td>\n      <td>2.11</td>\n      <td>102.307</td>\n    </tr>\n    <tr>\n      <th>10</th>\n      <td>2016-12-31</td>\n      <td>0.0327</td>\n      <td>3.38</td>\n      <td>102.17</td>\n    </tr>\n    <tr>\n      <th>11</th>\n      <td>2016-09-24</td>\n      <td>-0.0903</td>\n      <td>1.69</td>\n      <td>116.138</td>\n    </tr>\n    <tr>\n      <th>12</th>\n      <td>2016-06-25</td>\n      <td>-0.1461</td>\n      <td>1.43</td>\n      <td>114.466</td>\n    </tr>\n    <tr>\n      <th>13</th>\n      <td>2016-03-26</td>\n      <td>-0.1285</td>\n      <td>1.91</td>\n      <td>105.375</td>\n    </tr>\n    <tr>\n      <th>14</th>\n      <td>2015-12-26</td>\n      <td>0.0171</td>\n      <td>3.3</td>\n      <td>92.2095</td>\n    </tr>\n    <tr>\n      <th>15</th>\n      <td>2015-09-26</td>\n      <td>0.2226</td>\n      <td>1.98</td>\n      <td>84.3019</td>\n    </tr>\n    <tr>\n      <th>16</th>\n      <td>2015-06-27</td>\n      <td>0.3252</td>\n      <td>1.86</td>\n      <td>NA</td>\n    </tr>\n    <tr>\n      <th>17</th>\n      <td>2015-03-28</td>\n      <td>0.2709</td>\n      <td>2.34</td>\n      <td>NA</td>\n    </tr>\n    <tr>\n      <th>18</th>\n      <td>2014-12-27</td>\n      <td>0.2953</td>\n      <td>3.08</td>\n      <td>NA</td>\n    </tr>\n    <tr>\n      <th>19</th>\n      <td>2014-09-27</td>\n      <td>0.1241</td>\n      <td>1.43</td>\n      <td>NA</td>\n    </tr>\n    <tr>\n      <th>20</th>\n      <td>2014-06-28</td>\n      <td>0.0597</td>\n      <td>1.29</td>\n      <td>NA</td>\n    </tr>\n    <tr>\n      <th>21</th>\n      <td>2014-03-29</td>\n      <td>0.0469</td>\n      <td>1.67</td>\n      <td>NA</td>\n    </tr>\n    <tr>\n      <th>22</th>\n      <td>2013-12-28</td>\n      <td>0.0565</td>\n      <td>2.08</td>\n      <td>NA</td>\n    </tr>\n    <tr>\n      <th>23</th>\n      <td>2013-09-28</td>\n      <td>0.0419</td>\n      <td>1.2</td>\n      <td>NA</td>\n    </tr>\n    <tr>\n      <th>24</th>\n      <td>2013-06-29</td>\n      <td>0.0086</td>\n      <td>1.07</td>\n      <td>NA</td>\n    </tr>\n    <tr>\n      <th>25</th>\n      <td>2013-03-30</td>\n      <td>0.1127</td>\n      <td>1.451</td>\n      <td>NA</td>\n    </tr>\n    <tr>\n      <th>26</th>\n      <td>2012-12-29</td>\n      <td>0.1765</td>\n      <td>1.99</td>\n      <td>NA</td>\n    </tr>\n    <tr>\n      <th>27</th>\n      <td>2012-09-29</td>\n      <td>0.2722</td>\n      <td>1.253</td>\n      <td>NA</td>\n    </tr>\n    <tr>\n      <th>28</th>\n      <td>2012-06-30</td>\n      <td>0.2258</td>\n      <td>1.346</td>\n      <td>NA</td>\n    </tr>\n    <tr>\n      <th>29</th>\n      <td>2012-03-31</td>\n      <td>0.5886</td>\n      <td>1.779</td>\n      <td>NA</td>\n    </tr>\n    <tr>\n      <th>30</th>\n      <td>2011-12-31</td>\n      <td>0.7327</td>\n      <td>2.004</td>\n      <td>NA</td>\n    </tr>\n    <tr>\n      <th>31</th>\n      <td>2011-09-24</td>\n      <td>0.3897</td>\n      <td>1.02</td>\n      <td>NA</td>\n    </tr>\n    <tr>\n      <th>32</th>\n      <td>2011-06-25</td>\n      <td>0.8198</td>\n      <td>1.127</td>\n      <td>NA</td>\n    </tr>\n    <tr>\n      <th>33</th>\n      <td>2011-03-26</td>\n      <td>0.8273</td>\n      <td>0.927</td>\n      <td>NA</td>\n    </tr>\n    <tr>\n      <th>34</th>\n      <td>2010-12-25</td>\n      <td>0.7051</td>\n      <td>0.933</td>\n      <td>NA</td>\n    </tr>\n    <tr>\n      <th>35</th>\n      <td>2010-09-25</td>\n      <td>0.6665</td>\n      <td>0.674</td>\n      <td>NA</td>\n    </tr>\n    <tr>\n      <th>36</th>\n      <td>2010-06-26</td>\n      <td>0.6129</td>\n      <td>0.51</td>\n      <td>NA</td>\n    </tr>\n    <tr>\n      <th>37</th>\n      <td>2010-03-27</td>\n      <td>0.486</td>\n      <td>0.484</td>\n      <td>NA</td>\n    </tr>\n    <tr>\n      <th>38</th>\n      <td>2009-12-26</td>\n      <td>0.3201</td>\n      <td>0.534</td>\n      <td>NA</td>\n    </tr>\n    <tr>\n      <th>39</th>\n      <td>2009-09-26</td>\n      <td>-0.0542</td>\n      <td>0.403</td>\n      <td>NA</td>\n    </tr>\n    <tr>\n      <th>40</th>\n      <td>2009-06-27</td>\n      <td>0.3041</td>\n      <td>0.293</td>\n      <td>NA</td>\n    </tr>\n  </tbody>\n</table>\n</div>", 
                        "text/plain": "          date Revenue Growth    EPS Stock Price\n0   2019-06-29         0.0102    2.2      197.64\n1   2019-03-30        -0.0511   2.47     154.966\n2   2018-12-29        -0.0451   4.22     223.135\n3   2018-09-29         0.1963   2.94     139.844\n4   2018-06-30          0.173   2.36     138.458\n5   2018-03-31         0.1558   2.75     111.392\n6   2017-12-30         0.1269   3.92      107.34\n7   2017-09-30         0.1222   2.09     89.8407\n8   2017-07-01          0.072   1.68     101.859\n9   2017-04-01         0.0463   2.11     102.307\n10  2016-12-31         0.0327   3.38      102.17\n11  2016-09-24        -0.0903   1.69     116.138\n12  2016-06-25        -0.1461   1.43     114.466\n13  2016-03-26        -0.1285   1.91     105.375\n14  2015-12-26         0.0171    3.3     92.2095\n15  2015-09-26         0.2226   1.98     84.3019\n16  2015-06-27         0.3252   1.86          NA\n17  2015-03-28         0.2709   2.34          NA\n18  2014-12-27         0.2953   3.08          NA\n19  2014-09-27         0.1241   1.43          NA\n20  2014-06-28         0.0597   1.29          NA\n21  2014-03-29         0.0469   1.67          NA\n22  2013-12-28         0.0565   2.08          NA\n23  2013-09-28         0.0419    1.2          NA\n24  2013-06-29         0.0086   1.07          NA\n25  2013-03-30         0.1127  1.451          NA\n26  2012-12-29         0.1765   1.99          NA\n27  2012-09-29         0.2722  1.253          NA\n28  2012-06-30         0.2258  1.346          NA\n29  2012-03-31         0.5886  1.779          NA\n30  2011-12-31         0.7327  2.004          NA\n31  2011-09-24         0.3897   1.02          NA\n32  2011-06-25         0.8198  1.127          NA\n33  2011-03-26         0.8273  0.927          NA\n34  2010-12-25         0.7051  0.933          NA\n35  2010-09-25         0.6665  0.674          NA\n36  2010-06-26         0.6129   0.51          NA\n37  2010-03-27          0.486  0.484          NA\n38  2009-12-26         0.3201  0.534          NA\n39  2009-09-26        -0.0542  0.403          NA\n40  2009-06-27         0.3041  0.293          NA"
                    }, 
                    "output_type": "execute_result"
                }
            ], 
            "source": "# Get API url for historical stock price\nurl_stock_price = (\"https://financialmodelingprep.com/api/v3/historical-price-full/?serietype=line\") # 63\n\n# Add ticker symbol into data URL - this extracts data from the website reference\napi_call = name_API_stock_price(ticker, url_stock_price)\n\n# Take the website data from json into a pandas dataframe\nstock_price = get_jsonparsed_data(api_call)\nstock_data_stock_price = stock_price[\"historical\"]\n#stock_data_stock_price\n\n# Reverse list to match descending order of main_dataframe\nstock_data_stock_price.reverse()\n\nmain_dataframe"
        }, 
        {
            "source": "### Part 3 - Data Visualization", 
            "cell_type": "markdown", 
            "metadata": {}
        }, 
        {
            "execution_count": 126, 
            "cell_type": "code", 
            "metadata": {}, 
            "outputs": [
                {
                    "execution_count": 126, 
                    "metadata": {}, 
                    "data": {
                        "text/plain": "\"\\nx = (clean_dataframe_income_statement['date'])[:5]\\ny = (clean_dataframe_income_statement['EPS'])[:5]\\n# Graph date vs EPS plot\\nplt.scatter(x, y)\\nplt.ylabel('Earnings Per Share')\\nplt.xlabel('Date')\\nplt.show()\\n\""
                    }, 
                    "output_type": "execute_result"
                }
            ], 
            "source": "# PLOTTING...\n\"\"\"\nx = (clean_dataframe_income_statement['date'])[:5]\ny = (clean_dataframe_income_statement['EPS'])[:5]\n# Graph date vs EPS plot\nplt.scatter(x, y)\nplt.ylabel('Earnings Per Share')\nplt.xlabel('Date')\nplt.show()\n\"\"\""
        }, 
        {
            "execution_count": null, 
            "cell_type": "code", 
            "metadata": {}, 
            "outputs": [], 
            "source": ""
        }
    ], 
    "metadata": {
        "kernelspec": {
            "display_name": "Python 3.6", 
            "name": "python3", 
            "language": "python"
        }, 
        "language_info": {
            "mimetype": "text/x-python", 
            "nbconvert_exporter": "python", 
            "version": "3.6.8", 
            "name": "python", 
            "file_extension": ".py", 
            "pygments_lexer": "ipython3", 
            "codemirror_mode": {
                "version": 3, 
                "name": "ipython"
            }
        }
    }, 
    "nbformat": 4
}